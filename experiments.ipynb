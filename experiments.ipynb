{
 "cells": [
  {
   "cell_type": "markdown",
   "id": "26dae12f-bfdb-4935-8e4a-cc94b77f5b1e",
   "metadata": {},
   "source": [
    "# Task A"
   ]
  },
  {
   "cell_type": "markdown",
   "id": "d3f18204-16c0-4a72-8304-3e0cd104179e",
   "metadata": {},
   "source": [
    "In this task, we had to create a \"transform\" function which transforms unperformed beats time into a performed version.\n",
    "\n",
    "In other words, given the `midi_score_annotations.txt` and `NAME_annotations.txt`, we need to create a function that transfers first column of the first file into the first column of the second file.\n",
    "\n",
    "For the velocity, we use `*.mid` files and extract velocity from events. \"Beat velocity\" is defined as an average of the velocities of the events close to this beat. Event is close to the beat iff the difference between its onset in score and beat time is smaller than `0.5`. Then we again create a \"transform\" function."
   ]
  },
  {
   "cell_type": "code",
   "execution_count": null,
   "id": "dbf0bff6-58ff-4baf-94e3-7fd827139cf5",
   "metadata": {},
   "outputs": [],
   "source": [
    "%load_ext autoreload\n",
    "%autoreload 2\n",
    "\n",
    "from src.data import get_dataset_metadata, get_midi_performance_pairs, get_events_table_from_score, DATASET_PATH\n",
    "from src.plots import plot_average_transfer_function\n",
    "from src.estimators import random_estimator, random_velocity_estimator\n",
    "from src.onset_distribution import compute_average_distribution"
   ]
  },
  {
   "cell_type": "code",
   "execution_count": null,
   "id": "29661b35-71b8-4299-8865-14caf9010b4e",
   "metadata": {},
   "outputs": [],
   "source": [
    "df, json_data = get_dataset_metadata(\"Bach\")"
   ]
  },
  {
   "cell_type": "code",
   "execution_count": null,
   "id": "e6bcd11a-ce70-41f3-af1a-24c7c2a7c785",
   "metadata": {},
   "outputs": [],
   "source": [
    "df.head(2)"
   ]
  },
  {
   "cell_type": "code",
   "execution_count": null,
   "id": "ed418e48-52b3-4b09-93d6-abb110e5973d",
   "metadata": {},
   "outputs": [],
   "source": [
    "# for the first time might take up to 7 min because of velocity\n",
    "midi_beats_list, velocity_beats_list, performance_beats_list, perf_velocity_beats_list = get_midi_performance_pairs(df, json_data)"
   ]
  },
  {
   "cell_type": "code",
   "execution_count": null,
   "id": "b0a58b3e-2da5-4189-9866-c63c95da0295",
   "metadata": {},
   "outputs": [],
   "source": [
    "performance_beats_estimated_list = []\n",
    "velocity_beats_estimated_list = []\n",
    "for midi_beats, velocity_beats in zip(midi_beats_list, velocity_beats_list):\n",
    "    performance_beats_estimated = random_estimator(midi_beats)\n",
    "    velocity_beats_estimated = random_velocity_estimator(velocity_beats)\n",
    "    performance_beats_estimated_list.append(performance_beats_estimated)\n",
    "    velocity_beats_estimated_list.append(velocity_beats_estimated)"
   ]
  },
  {
   "cell_type": "code",
   "execution_count": null,
   "id": "6c5ff6b6-bee4-4eff-9c51-60f8049bd7e6",
   "metadata": {},
   "outputs": [],
   "source": [
    "plot_average_transfer_function(midi_beats_list, performance_beats_list, performance_beats_estimated_list, performance_type=\"time\")\n",
    "plot_average_transfer_function(midi_beats_list, perf_velocity_beats_list, velocity_beats_estimated_list, performance_type=\"velocity\")"
   ]
  },
  {
   "cell_type": "markdown",
   "id": "01df8704-256f-4282-93ad-84e7c80fdb70",
   "metadata": {},
   "source": [
    "# Task B\n",
    "\n",
    "Use `src.data.get_events_table_from_score`"
   ]
  },
  {
   "cell_type": "code",
   "execution_count": null,
   "id": "73540bcc-ba29-4f24-9434-be990434cc00",
   "metadata": {},
   "outputs": [],
   "source": [
    "# We analyse Bach's Fugues (or other?)\n",
    "corpus = DATASET_PATH / \"Bach\" / \"Fugue\"\n",
    "# TODO : fetch the time signature from the XML (<time>), and group by time signature to perform one experiment for each\n",
    "four_four = [\n",
    "    \"bwv_846\",\n",
    "    \"bwv_848\",\n",
    "]\n",
    "score_paths = [corpus / piece / \"midi_score.mid\" for piece in four_four]\n",
    "compute_average_distribution(score_paths, sig=(4,4), subdivision=4)"
   ]
  }
 ],
 "metadata": {
  "kernelspec": {
   "display_name": "Python 3 (ipykernel)",
   "language": "python",
   "name": "python3"
  },
  "language_info": {
   "codemirror_mode": {
    "name": "ipython",
    "version": 3
   },
   "file_extension": ".py",
   "mimetype": "text/x-python",
   "name": "python",
   "nbconvert_exporter": "python",
   "pygments_lexer": "ipython3",
   "version": "3.10.14"
  }
 },
 "nbformat": 4,
 "nbformat_minor": 5
}
