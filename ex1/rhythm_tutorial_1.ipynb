{
  "cells": [
    {
      "cell_type": "code",
      "execution_count": null,
      "id": "L5ivJE1pY40f",
      "metadata": {
        "id": "L5ivJE1pY40f"
      },
      "outputs": [],
      "source": [
        "from google.colab import drive\n",
        "drive.mount('/content/drive')"
      ]
    },
    {
      "cell_type": "code",
      "execution_count": 3,
      "id": "J567JDRUZsJn",
      "metadata": {
        "id": "J567JDRUZsJn"
      },
      "outputs": [],
      "source": [
        "tutorial_path = \"./\"\n",
        "dependencies = f'{tutorial_path}dependencies/'"
      ]
    },
    {
      "cell_type": "markdown",
      "id": "b0d2bece",
      "metadata": {
        "id": "b0d2bece"
      },
      "source": [
        "<a id=\"0\"></a>\n",
        "\n",
        "# 📚 Tutorial - Rhythmic Structure\n",
        "\n",
        "> **Topics:**\n",
        "> 1. [Introducing Rhythmic Structure](#1)\n",
        "> 2. [Accessing Rhythm](#2)\n",
        "> 3. [Casting Numbers as music21 Scores (Short)](#3)\n",
        "\n",
        "> **By the end of the session you will:**\n",
        "> - ✅ Extract rhythm metrics from xml files using music21\n",
        "> - ✅ Translate sequences of numbers into musical scores using music21\n",
        "> - ✅ Instantiate and perform operations with a new type of rhythmic object in Python\n"
      ]
    },
    {
      "cell_type": "markdown",
      "id": "76b8af2a",
      "metadata": {
        "id": "76b8af2a"
      },
      "source": [
        "<a id=\"1\"></a>\n",
        "\n",
        "***---***\n",
        "\n",
        "## 1. Introducing Rhythmic Structure\n",
        "###### [back to top](#0)\n",
        "\n",
        "***---***\n",
        "\n",
        "#### 🔵 What?\n",
        "\n",
        "A pared down explanation of rhythm might emphasize:\n",
        "- **duration**: the amount of time a musical event (note, chord, rest) or group of musical events lasts\n",
        "- **onset**: the location in a score or measure at which an event begins, typically measured in terms of beat number\n",
        "- **rest**: the location and balance of moments which do not stimulate the listener (especially in contrast with those that do)\n",
        "\n",
        "The importance of these elements for rhythmic *structure* arises in how they reinforce or disrupt **meter**, or the recurring pattern of musical event timings that drives a musical piece. Meter is specified in part by the time signature, which informs the number of beats per measure, and in part by onsets, durations, and rests, which implicitly assign importance to certain beats on the **metrical grid**:\n",
        "\n",
        "\n",
        "![metrical_grid](https://drive.google.com/uc?export=view&id=18iGMM9nleNfxG48PixLlLtP0Qa84JzH-)\n",
        "\n",
        "\n",
        "In short: rhythmic structure is the scaffolding that defines how often and for how long the listener can expect to hear sounds.\n",
        "\n",
        "#### 🟡 How?\n",
        "\n",
        "From the symbolic perspective, composers select the sounded and unsounded durations they desire for their music:   \n",
        "\n",
        "\n",
        "![notes_rests](https://drive.google.com/uc?export=view&id=1pYjeytLogXmT9oh6SN7LAH_EpwWAOd_-)\n",
        "\n",
        "\n",
        "The standard unit of measurement in rhythmic analysis is the <u>beat</u> or, equivalently, the unpitched note corresponding to one beat in the active time signature (eg in the chart above, which lists a 4/4 time signature in the final column header, the durational unit could be the quarter note).\n",
        "\n",
        "Apart from duration, onset, and rest, there are further symbolic aspects (possibly syncopation) and elements of musical performance (rubato) which, though beyond the scope of this introductory notebook, feed into rhythmic structure. All of these intentional rhythmic elements ultimately interact with the listener to bring life to structure.\n",
        "\n",
        "#### 🟣 Why?\n",
        "\n",
        "We claim rhthmic elements *interact* with the listener because **rhythm exists in the mind.** When we listen to music, we unconsciously learn the timing pattern characteristic to a piece and begin to anticipate musical events based on this learned pattern. This point is not to be missed: to listen to music is to encode all time-based events into a structure that allows us to form expectations. *This* is where rhythmic structure really exists.\n",
        "\n",
        "The great benefit of this process is that musicians can rely it to shape an experience. As listeners come to expect a certain pattern, continued reinforcement feels earned and satisfying while deviations can surprise, delight, or worry. Dance becomes possible. Emotions can be inspired. Stories can be told. What we have is a way to start pulling levers with respect to unconscious human behaviour."
      ]
    },
    {
      "cell_type": "markdown",
      "id": "fcb645f8",
      "metadata": {
        "id": "fcb645f8"
      },
      "source": [
        "<div style=\"padding:8px 0 8px 15px;border-left:3px solid orange;background-color:#F3F3F3;\">\n",
        "    <h3>Structure of today's exercise</h3>\n",
        "In this exercise session, we will introduce computational tools for studying, generating, and comparing rhythms. We will define rhythm, access its symbolic aspects in music21, create onset distribution plots in pursuit of metrical grids, train Markov Chain transition tables for use in sequential generation, apply a set of rhythm grammar rules in hierarchical generation, and implement both feature-based and transformation-based rhythm comparison pipelines.\n",
        "\n",
        "Your task is to fill in missing pieces of code when asked. For each one, you will be given a 🎯 `Goal` guidance that explains the steps you need to implement and a 💻 `API` reference with the steps, functions, or classes you can use to achieve each goal.\n",
        "\n",
        "#### Setup\n",
        "All the Python packages you need to install are listed in the next block. This tutorial also assumes you have MuseScore or Finale Notepad installed.\n",
        "\n",
        "#### Data\n",
        "All data is included in the dependencies folder.\n",
        "\n",
        "The Section 2 blue bossa sheet music is available on [MuseScore](https://musescore.com/will_rowsell/blue-bossa-piano)   \n",
        "The Sections 2-3 Mozart piano sonata note transcriptions are from a DCML corpus on [GitHub](https://github.com/DCMLab/mozart_piano_sonatas/tree/main/MS3)   \n",
        "\n",
        "\n",
        "</div>"
      ]
    },
    {
      "cell_type": "markdown",
      "id": "411edcc9",
      "metadata": {
        "id": "411edcc9"
      },
      "source": [
        "#### 1.1 Get set up\n",
        "\n",
        "Create and activate a virtual environment to install the packages in the following cell."
      ]
    },
    {
      "cell_type": "code",
      "execution_count": 1,
      "id": "6452edbb",
      "metadata": {
        "id": "6452edbb"
      },
      "outputs": [
        {
          "name": "stdout",
          "output_type": "stream",
          "text": [
            "Collecting numpy\n",
            "  Downloading numpy-1.26.4-cp310-cp310-manylinux_2_17_x86_64.manylinux2014_x86_64.whl.metadata (61 kB)\n",
            "\u001b[2K     \u001b[90m━━━━━━━━━━━━━━━━━━━━━━━━━━━━━━━━━━━━━━━━\u001b[0m \u001b[32m61.0/61.0 kB\u001b[0m \u001b[31m2.5 MB/s\u001b[0m eta \u001b[36m0:00:00\u001b[0m\n",
            "\u001b[?25hCollecting pandas\n",
            "  Downloading pandas-2.2.1-cp310-cp310-manylinux_2_17_x86_64.manylinux2014_x86_64.whl.metadata (19 kB)\n",
            "\u001b[31mERROR: Could not find a version that satisfies the requirement pickle (from versions: none)\u001b[0m\u001b[31m\n",
            "\u001b[0m\u001b[31mERROR: No matching distribution found for pickle\u001b[0m\u001b[31m\n",
            "\u001b[0mCollecting git+https://github.com/quadrismegistus/prosodic.git\n",
            "  Cloning https://github.com/quadrismegistus/prosodic.git to /tmp/pip-req-build-ycpe8ylc\n",
            "  Running command git clone --filter=blob:none --quiet https://github.com/quadrismegistus/prosodic.git /tmp/pip-req-build-ycpe8ylc\n",
            "  Resolved https://github.com/quadrismegistus/prosodic.git to commit d8944c49428bb884227847e3f159cdbaed7f35eb\n",
            "  Running command git submodule update --init --recursive -q\n",
            "  Preparing metadata (setup.py) ... \u001b[?25ldone\n",
            "\u001b[?25hCollecting syllabiphon@ git+https://github.com/dmort27/syllabiphon (from prosodic==2.0.0.dev1)\n",
            "  Cloning https://github.com/dmort27/syllabiphon to /tmp/pip-install-8xteosqe/syllabiphon_8262bd87e61e49dea046a8efbd0ed729\n",
            "  Running command git clone --filter=blob:none --quiet https://github.com/dmort27/syllabiphon /tmp/pip-install-8xteosqe/syllabiphon_8262bd87e61e49dea046a8efbd0ed729\n",
            "  Resolved https://github.com/dmort27/syllabiphon to commit 7cb3452d77e357bb8dcdf7a7e7d8a37babe235b6\n",
            "  Preparing metadata (setup.py) ... \u001b[?25ldone\n",
            "\u001b[?25hCollecting editdistance@ git+https://github.com/roy-ht/editdistance (from prosodic==2.0.0.dev1)\n",
            "  Cloning https://github.com/roy-ht/editdistance to /tmp/pip-install-8xteosqe/editdistance_ae5e53ceac404afa9fe92e1cee0aad0e\n",
            "  Running command git clone --filter=blob:none --quiet https://github.com/roy-ht/editdistance /tmp/pip-install-8xteosqe/editdistance_ae5e53ceac404afa9fe92e1cee0aad0e\n",
            "  Resolved https://github.com/roy-ht/editdistance to commit 9e05bc645062f68a5c329ea64a1c31cd142bd185\n",
            "  Installing build dependencies ... \u001b[?25ldone\n",
            "\u001b[?25h  Getting requirements to build wheel ... \u001b[?25ldone\n",
            "\u001b[?25h  Installing backend dependencies ... \u001b[?25ldone\n",
            "\u001b[?25h  Preparing metadata (pyproject.toml) ... \u001b[?25ldone\n",
            "\u001b[?25hCollecting ftfy (from prosodic==2.0.0.dev1)\n",
            "  Downloading ftfy-6.2.0-py3-none-any.whl.metadata (7.3 kB)\n",
            "Collecting langdetect (from prosodic==2.0.0.dev1)\n",
            "  Downloading langdetect-1.0.9.tar.gz (981 kB)\n",
            "\u001b[2K     \u001b[90m━━━━━━━━━━━━━━━━━━━━━━━━━━━━━━━━━━━━━━\u001b[0m \u001b[32m981.5/981.5 kB\u001b[0m \u001b[31m10.1 MB/s\u001b[0m eta \u001b[36m0:00:00\u001b[0ma \u001b[36m0:00:01\u001b[0m\n",
            "\u001b[?25h  Preparing metadata (setup.py) ... \u001b[?25ldone\n",
            "\u001b[?25hCollecting pandas (from prosodic==2.0.0.dev1)\n",
            "  Using cached pandas-2.2.1-cp310-cp310-manylinux_2_17_x86_64.manylinux2014_x86_64.whl.metadata (19 kB)\n",
            "Collecting loguru (from prosodic==2.0.0.dev1)\n",
            "  Downloading loguru-0.7.2-py3-none-any.whl.metadata (23 kB)\n",
            "Collecting sqlitedict (from prosodic==2.0.0.dev1)\n",
            "  Downloading sqlitedict-2.1.0.tar.gz (21 kB)\n",
            "  Preparing metadata (setup.py) ... \u001b[?25ldone\n",
            "\u001b[?25hCollecting gruut-ipa (from prosodic==2.0.0.dev1)\n",
            "  Downloading gruut-ipa-0.13.0.tar.gz (101 kB)\n",
            "\u001b[2K     \u001b[90m━━━━━━━━━━━━━━━━━━━━━━━━━━━━━━━━━━━━━━━\u001b[0m \u001b[32m101.6/101.6 kB\u001b[0m \u001b[31m8.2 MB/s\u001b[0m eta \u001b[36m0:00:00\u001b[0m\n",
            "\u001b[?25h  Preparing metadata (setup.py) ... \u001b[?25ldone\n",
            "\u001b[?25hCollecting numpy (from prosodic==2.0.0.dev1)\n",
            "  Using cached numpy-1.26.4-cp310-cp310-manylinux_2_17_x86_64.manylinux2014_x86_64.whl.metadata (61 kB)\n",
            "Collecting multiset (from prosodic==2.0.0.dev1)\n",
            "  Downloading multiset-3.0.2-py2.py3-none-any.whl.metadata (3.9 kB)\n",
            "Collecting nltk (from prosodic==2.0.0.dev1)\n",
            "  Downloading nltk-3.8.1-py3-none-any.whl.metadata (2.8 kB)\n",
            "Collecting phonemizer (from prosodic==2.0.0.dev1)\n",
            "  Downloading phonemizer-3.2.1-py3-none-any.whl.metadata (7.4 kB)\n",
            "Collecting orjson (from prosodic==2.0.0.dev1)\n",
            "  Downloading orjson-3.9.15-cp310-cp310-manylinux_2_17_x86_64.manylinux2014_x86_64.whl.metadata (49 kB)\n",
            "\u001b[2K     \u001b[90m━━━━━━━━━━━━━━━━━━━━━━━━━━━━━━━━━━━━━━━━\u001b[0m \u001b[32m49.5/49.5 kB\u001b[0m \u001b[31m3.7 MB/s\u001b[0m eta \u001b[36m0:00:00\u001b[0m\n",
            "\u001b[?25hCollecting ordered-set (from prosodic==2.0.0.dev1)\n",
            "  Downloading ordered_set-4.1.0-py3-none-any.whl.metadata (5.3 kB)\n",
            "Collecting click (from prosodic==2.0.0.dev1)\n",
            "  Using cached click-8.1.7-py3-none-any.whl.metadata (3.0 kB)\n",
            "Collecting logmap (from prosodic==2.0.0.dev1)\n",
            "  Downloading logmap-0.0.3-py3-none-any.whl.metadata (4.0 kB)\n",
            "Requirement already satisfied: ipython in /home/bouncer/prg/miniconda3/envs/musicology/lib/python3.10/site-packages (from prosodic==2.0.0.dev1) (8.22.2)\n",
            "Collecting redis-dict (from prosodic==2.0.0.dev1)\n",
            "  Downloading redis_dict-2.5.0-py3-none-any.whl.metadata (9.8 kB)\n",
            "Collecting flask (from prosodic==2.0.0.dev1)\n",
            "  Downloading flask-3.0.2-py3-none-any.whl.metadata (3.6 kB)\n",
            "Collecting flask-socketio (from prosodic==2.0.0.dev1)\n",
            "  Downloading Flask_SocketIO-5.3.6-py3-none-any.whl.metadata (2.6 kB)\n",
            "Collecting gevent (from prosodic==2.0.0.dev1)\n",
            "  Downloading gevent-24.2.1-cp310-cp310-manylinux_2_28_x86_64.whl.metadata (13 kB)\n",
            "Collecting gevent-websocket (from prosodic==2.0.0.dev1)\n",
            "  Downloading gevent_websocket-0.10.1-py3-none-any.whl.metadata (5.3 kB)\n",
            "Collecting Werkzeug>=3.0.0 (from flask->prosodic==2.0.0.dev1)\n",
            "  Using cached werkzeug-3.0.1-py3-none-any.whl.metadata (4.1 kB)\n",
            "Collecting Jinja2>=3.1.2 (from flask->prosodic==2.0.0.dev1)\n",
            "  Using cached Jinja2-3.1.3-py3-none-any.whl.metadata (3.3 kB)\n",
            "Collecting itsdangerous>=2.1.2 (from flask->prosodic==2.0.0.dev1)\n",
            "  Downloading itsdangerous-2.1.2-py3-none-any.whl.metadata (2.9 kB)\n",
            "Collecting blinker>=1.6.2 (from flask->prosodic==2.0.0.dev1)\n",
            "  Downloading blinker-1.7.0-py3-none-any.whl.metadata (1.9 kB)\n",
            "Collecting python-socketio>=5.0.2 (from flask-socketio->prosodic==2.0.0.dev1)\n",
            "  Downloading python_socketio-5.11.1-py3-none-any.whl.metadata (3.2 kB)\n",
            "Requirement already satisfied: wcwidth<0.3.0,>=0.2.12 in /home/bouncer/prg/miniconda3/envs/musicology/lib/python3.10/site-packages (from ftfy->prosodic==2.0.0.dev1) (0.2.13)\n",
            "Collecting zope.event (from gevent->prosodic==2.0.0.dev1)\n",
            "  Downloading zope.event-5.0-py3-none-any.whl.metadata (4.4 kB)\n",
            "Collecting zope.interface (from gevent->prosodic==2.0.0.dev1)\n",
            "  Downloading zope.interface-6.2-cp310-cp310-manylinux_2_5_x86_64.manylinux1_x86_64.manylinux_2_17_x86_64.manylinux2014_x86_64.whl.metadata (41 kB)\n",
            "\u001b[2K     \u001b[90m━━━━━━━━━━━━━━━━━━━━━━━━━━━━━━━━━━━━━━━━\u001b[0m \u001b[32m41.9/41.9 kB\u001b[0m \u001b[31m3.0 MB/s\u001b[0m eta \u001b[36m0:00:00\u001b[0m\n",
            "\u001b[?25hCollecting greenlet>=2.0.0 (from gevent->prosodic==2.0.0.dev1)\n",
            "  Downloading greenlet-3.0.3-cp310-cp310-manylinux_2_24_x86_64.manylinux_2_28_x86_64.whl.metadata (3.8 kB)\n",
            "Requirement already satisfied: decorator in /home/bouncer/prg/miniconda3/envs/musicology/lib/python3.10/site-packages (from ipython->prosodic==2.0.0.dev1) (5.1.1)\n",
            "Requirement already satisfied: jedi>=0.16 in /home/bouncer/prg/miniconda3/envs/musicology/lib/python3.10/site-packages (from ipython->prosodic==2.0.0.dev1) (0.19.1)\n",
            "Requirement already satisfied: matplotlib-inline in /home/bouncer/prg/miniconda3/envs/musicology/lib/python3.10/site-packages (from ipython->prosodic==2.0.0.dev1) (0.1.6)\n",
            "Requirement already satisfied: prompt-toolkit<3.1.0,>=3.0.41 in /home/bouncer/prg/miniconda3/envs/musicology/lib/python3.10/site-packages (from ipython->prosodic==2.0.0.dev1) (3.0.42)\n",
            "Requirement already satisfied: pygments>=2.4.0 in /home/bouncer/prg/miniconda3/envs/musicology/lib/python3.10/site-packages (from ipython->prosodic==2.0.0.dev1) (2.17.2)\n",
            "Requirement already satisfied: stack-data in /home/bouncer/prg/miniconda3/envs/musicology/lib/python3.10/site-packages (from ipython->prosodic==2.0.0.dev1) (0.6.2)\n",
            "Requirement already satisfied: traitlets>=5.13.0 in /home/bouncer/prg/miniconda3/envs/musicology/lib/python3.10/site-packages (from ipython->prosodic==2.0.0.dev1) (5.14.2)\n",
            "Requirement already satisfied: exceptiongroup in /home/bouncer/prg/miniconda3/envs/musicology/lib/python3.10/site-packages (from ipython->prosodic==2.0.0.dev1) (1.2.0)\n",
            "Requirement already satisfied: pexpect>4.3 in /home/bouncer/prg/miniconda3/envs/musicology/lib/python3.10/site-packages (from ipython->prosodic==2.0.0.dev1) (4.9.0)\n",
            "Requirement already satisfied: six in /home/bouncer/prg/miniconda3/envs/musicology/lib/python3.10/site-packages (from langdetect->prosodic==2.0.0.dev1) (1.16.0)\n",
            "Collecting humanfriendly (from logmap->prosodic==2.0.0.dev1)\n",
            "  Downloading humanfriendly-10.0-py2.py3-none-any.whl.metadata (9.2 kB)\n",
            "Collecting tqdm (from logmap->prosodic==2.0.0.dev1)\n",
            "  Downloading tqdm-4.66.2-py3-none-any.whl.metadata (57 kB)\n",
            "\u001b[2K     \u001b[90m━━━━━━━━━━━━━━━━━━━━━━━━━━━━━━━━━━━━━━━━\u001b[0m \u001b[32m57.6/57.6 kB\u001b[0m \u001b[31m3.6 MB/s\u001b[0m eta \u001b[36m0:00:00\u001b[0m\n",
            "\u001b[?25hCollecting multiprocess (from logmap->prosodic==2.0.0.dev1)\n",
            "  Downloading multiprocess-0.70.16-py310-none-any.whl.metadata (7.2 kB)\n",
            "Collecting joblib (from nltk->prosodic==2.0.0.dev1)\n",
            "  Using cached joblib-1.3.2-py3-none-any.whl.metadata (5.4 kB)\n",
            "Collecting regex>=2021.8.3 (from nltk->prosodic==2.0.0.dev1)\n",
            "  Using cached regex-2023.12.25-cp310-cp310-manylinux_2_17_x86_64.manylinux2014_x86_64.whl.metadata (40 kB)\n",
            "Requirement already satisfied: python-dateutil>=2.8.2 in /home/bouncer/prg/miniconda3/envs/musicology/lib/python3.10/site-packages (from pandas->prosodic==2.0.0.dev1) (2.9.0)\n",
            "Collecting pytz>=2020.1 (from pandas->prosodic==2.0.0.dev1)\n",
            "  Using cached pytz-2024.1-py2.py3-none-any.whl.metadata (22 kB)\n",
            "Collecting tzdata>=2022.7 (from pandas->prosodic==2.0.0.dev1)\n",
            "  Downloading tzdata-2024.1-py2.py3-none-any.whl.metadata (1.4 kB)\n",
            "Collecting segments (from phonemizer->prosodic==2.0.0.dev1)\n",
            "  Downloading segments-2.2.1-py2.py3-none-any.whl.metadata (3.3 kB)\n",
            "Collecting attrs>=18.1 (from phonemizer->prosodic==2.0.0.dev1)\n",
            "  Using cached attrs-23.2.0-py3-none-any.whl.metadata (9.5 kB)\n",
            "Collecting dlinfo (from phonemizer->prosodic==2.0.0.dev1)\n",
            "  Downloading dlinfo-1.2.1-py3-none-any.whl.metadata (1.1 kB)\n",
            "Requirement already satisfied: typing-extensions in /home/bouncer/prg/miniconda3/envs/musicology/lib/python3.10/site-packages (from phonemizer->prosodic==2.0.0.dev1) (4.10.0)\n",
            "Collecting redis (from redis-dict->prosodic==2.0.0.dev1)\n",
            "  Downloading redis-5.0.3-py3-none-any.whl.metadata (9.3 kB)\n",
            "Collecting panphon (from syllabiphon@ git+https://github.com/dmort27/syllabiphon->prosodic==2.0.0.dev1)\n",
            "  Downloading panphon-0.20.0-py2.py3-none-any.whl.metadata (15 kB)\n",
            "Requirement already satisfied: parso<0.9.0,>=0.8.3 in /home/bouncer/prg/miniconda3/envs/musicology/lib/python3.10/site-packages (from jedi>=0.16->ipython->prosodic==2.0.0.dev1) (0.8.3)\n",
            "Collecting MarkupSafe>=2.0 (from Jinja2>=3.1.2->flask->prosodic==2.0.0.dev1)\n",
            "  Downloading MarkupSafe-2.1.5-cp310-cp310-manylinux_2_17_x86_64.manylinux2014_x86_64.whl.metadata (3.0 kB)\n",
            "Requirement already satisfied: ptyprocess>=0.5 in /home/bouncer/prg/miniconda3/envs/musicology/lib/python3.10/site-packages (from pexpect>4.3->ipython->prosodic==2.0.0.dev1) (0.7.0)\n",
            "Collecting bidict>=0.21.0 (from python-socketio>=5.0.2->flask-socketio->prosodic==2.0.0.dev1)\n",
            "  Downloading bidict-0.23.1-py3-none-any.whl.metadata (8.7 kB)\n",
            "Collecting python-engineio>=4.8.0 (from python-socketio>=5.0.2->flask-socketio->prosodic==2.0.0.dev1)\n",
            "  Downloading python_engineio-4.9.0-py3-none-any.whl.metadata (2.2 kB)\n",
            "Collecting dill>=0.3.8 (from multiprocess->logmap->prosodic==2.0.0.dev1)\n",
            "  Downloading dill-0.3.8-py3-none-any.whl.metadata (10 kB)\n",
            "Requirement already satisfied: setuptools in /home/bouncer/prg/miniconda3/envs/musicology/lib/python3.10/site-packages (from panphon->syllabiphon@ git+https://github.com/dmort27/syllabiphon->prosodic==2.0.0.dev1) (68.2.2)\n",
            "Collecting unicodecsv (from panphon->syllabiphon@ git+https://github.com/dmort27/syllabiphon->prosodic==2.0.0.dev1)\n",
            "  Downloading unicodecsv-0.14.1.tar.gz (10 kB)\n",
            "  Preparing metadata (setup.py) ... \u001b[?25ldone\n",
            "\u001b[?25hCollecting PyYAML (from panphon->syllabiphon@ git+https://github.com/dmort27/syllabiphon->prosodic==2.0.0.dev1)\n",
            "  Downloading PyYAML-6.0.1-cp310-cp310-manylinux_2_17_x86_64.manylinux2014_x86_64.whl.metadata (2.1 kB)\n",
            "Collecting munkres (from panphon->syllabiphon@ git+https://github.com/dmort27/syllabiphon->prosodic==2.0.0.dev1)\n",
            "  Downloading munkres-1.1.4-py2.py3-none-any.whl.metadata (980 bytes)\n",
            "Collecting async-timeout>=4.0.3 (from redis->redis-dict->prosodic==2.0.0.dev1)\n",
            "  Downloading async_timeout-4.0.3-py3-none-any.whl.metadata (4.2 kB)\n",
            "Collecting clldutils>=1.7.3 (from segments->phonemizer->prosodic==2.0.0.dev1)\n",
            "  Downloading clldutils-3.22.2-py2.py3-none-any.whl.metadata (3.0 kB)\n",
            "Collecting csvw>=1.5.6 (from segments->phonemizer->prosodic==2.0.0.dev1)\n",
            "  Downloading csvw-3.3.0-py2.py3-none-any.whl.metadata (10 kB)\n",
            "Requirement already satisfied: executing>=1.2.0 in /home/bouncer/prg/miniconda3/envs/musicology/lib/python3.10/site-packages (from stack-data->ipython->prosodic==2.0.0.dev1) (2.0.1)\n",
            "Requirement already satisfied: asttokens>=2.1.0 in /home/bouncer/prg/miniconda3/envs/musicology/lib/python3.10/site-packages (from stack-data->ipython->prosodic==2.0.0.dev1) (2.4.1)\n",
            "Requirement already satisfied: pure-eval in /home/bouncer/prg/miniconda3/envs/musicology/lib/python3.10/site-packages (from stack-data->ipython->prosodic==2.0.0.dev1) (0.2.2)\n",
            "Collecting tabulate>=0.7.7 (from clldutils>=1.7.3->segments->phonemizer->prosodic==2.0.0.dev1)\n",
            "  Downloading tabulate-0.9.0-py3-none-any.whl.metadata (34 kB)\n",
            "Collecting colorlog (from clldutils>=1.7.3->segments->phonemizer->prosodic==2.0.0.dev1)\n",
            "  Downloading colorlog-6.8.2-py3-none-any.whl.metadata (10 kB)\n",
            "Collecting bibtexparser>=2.0.0b4 (from clldutils>=1.7.3->segments->phonemizer->prosodic==2.0.0.dev1)\n",
            "  Downloading bibtexparser-2.0.0b7-py3-none-any.whl.metadata (5.6 kB)\n",
            "Collecting pylatexenc (from clldutils>=1.7.3->segments->phonemizer->prosodic==2.0.0.dev1)\n",
            "  Downloading pylatexenc-2.10.tar.gz (162 kB)\n",
            "\u001b[2K     \u001b[90m━━━━━━━━━━━━━━━━━━━━━━━━━━━━━━━━━━━━━━━\u001b[0m \u001b[32m162.6/162.6 kB\u001b[0m \u001b[31m7.8 MB/s\u001b[0m eta \u001b[36m0:00:00\u001b[0m\n",
            "\u001b[?25h  Preparing metadata (setup.py) ... \u001b[?25ldone\n",
            "\u001b[?25hCollecting markdown (from clldutils>=1.7.3->segments->phonemizer->prosodic==2.0.0.dev1)\n",
            "  Downloading Markdown-3.6-py3-none-any.whl.metadata (7.0 kB)\n",
            "Collecting lxml (from clldutils>=1.7.3->segments->phonemizer->prosodic==2.0.0.dev1)\n",
            "  Downloading lxml-5.1.0-cp310-cp310-manylinux_2_17_x86_64.manylinux2014_x86_64.whl.metadata (3.5 kB)\n",
            "Collecting babel (from csvw>=1.5.6->segments->phonemizer->prosodic==2.0.0.dev1)\n",
            "  Downloading Babel-2.14.0-py3-none-any.whl.metadata (1.6 kB)\n",
            "Collecting colorama (from csvw>=1.5.6->segments->phonemizer->prosodic==2.0.0.dev1)\n",
            "  Downloading colorama-0.4.6-py2.py3-none-any.whl.metadata (17 kB)\n",
            "Collecting isodate (from csvw>=1.5.6->segments->phonemizer->prosodic==2.0.0.dev1)\n",
            "  Downloading isodate-0.6.1-py2.py3-none-any.whl.metadata (9.6 kB)\n",
            "Collecting jsonschema (from csvw>=1.5.6->segments->phonemizer->prosodic==2.0.0.dev1)\n",
            "  Downloading jsonschema-4.21.1-py3-none-any.whl.metadata (7.8 kB)\n",
            "Collecting language-tags (from csvw>=1.5.6->segments->phonemizer->prosodic==2.0.0.dev1)\n",
            "  Downloading language_tags-1.2.0-py3-none-any.whl.metadata (2.1 kB)\n",
            "Collecting rdflib (from csvw>=1.5.6->segments->phonemizer->prosodic==2.0.0.dev1)\n",
            "  Downloading rdflib-7.0.0-py3-none-any.whl.metadata (11 kB)\n",
            "Collecting requests (from csvw>=1.5.6->segments->phonemizer->prosodic==2.0.0.dev1)\n",
            "  Using cached requests-2.31.0-py3-none-any.whl.metadata (4.6 kB)\n",
            "Collecting rfc3986<2 (from csvw>=1.5.6->segments->phonemizer->prosodic==2.0.0.dev1)\n",
            "  Downloading rfc3986-1.5.0-py2.py3-none-any.whl.metadata (6.5 kB)\n",
            "Collecting uritemplate>=3.0.0 (from csvw>=1.5.6->segments->phonemizer->prosodic==2.0.0.dev1)\n",
            "  Downloading uritemplate-4.1.1-py2.py3-none-any.whl.metadata (2.9 kB)\n",
            "Collecting simple-websocket>=0.10.0 (from python-engineio>=4.8.0->python-socketio>=5.0.2->flask-socketio->prosodic==2.0.0.dev1)\n",
            "  Downloading simple_websocket-1.0.0-py3-none-any.whl.metadata (1.3 kB)\n",
            "Collecting wsproto (from simple-websocket>=0.10.0->python-engineio>=4.8.0->python-socketio>=5.0.2->flask-socketio->prosodic==2.0.0.dev1)\n",
            "  Downloading wsproto-1.2.0-py3-none-any.whl.metadata (5.6 kB)\n",
            "Collecting jsonschema-specifications>=2023.03.6 (from jsonschema->csvw>=1.5.6->segments->phonemizer->prosodic==2.0.0.dev1)\n",
            "  Downloading jsonschema_specifications-2023.12.1-py3-none-any.whl.metadata (3.0 kB)\n",
            "Collecting referencing>=0.28.4 (from jsonschema->csvw>=1.5.6->segments->phonemizer->prosodic==2.0.0.dev1)\n",
            "  Downloading referencing-0.34.0-py3-none-any.whl.metadata (2.8 kB)\n",
            "Collecting rpds-py>=0.7.1 (from jsonschema->csvw>=1.5.6->segments->phonemizer->prosodic==2.0.0.dev1)\n",
            "  Downloading rpds_py-0.18.0-cp310-cp310-manylinux_2_17_x86_64.manylinux2014_x86_64.whl.metadata (4.1 kB)\n",
            "Collecting pyparsing<4,>=2.1.0 (from rdflib->csvw>=1.5.6->segments->phonemizer->prosodic==2.0.0.dev1)\n",
            "  Downloading pyparsing-3.1.2-py3-none-any.whl.metadata (5.1 kB)\n",
            "Collecting charset-normalizer<4,>=2 (from requests->csvw>=1.5.6->segments->phonemizer->prosodic==2.0.0.dev1)\n",
            "  Using cached charset_normalizer-3.3.2-cp310-cp310-manylinux_2_17_x86_64.manylinux2014_x86_64.whl.metadata (33 kB)\n",
            "Collecting idna<4,>=2.5 (from requests->csvw>=1.5.6->segments->phonemizer->prosodic==2.0.0.dev1)\n",
            "  Using cached idna-3.6-py3-none-any.whl.metadata (9.9 kB)\n",
            "Collecting urllib3<3,>=1.21.1 (from requests->csvw>=1.5.6->segments->phonemizer->prosodic==2.0.0.dev1)\n",
            "  Downloading urllib3-2.2.1-py3-none-any.whl.metadata (6.4 kB)\n",
            "Collecting certifi>=2017.4.17 (from requests->csvw>=1.5.6->segments->phonemizer->prosodic==2.0.0.dev1)\n",
            "  Downloading certifi-2024.2.2-py3-none-any.whl.metadata (2.2 kB)\n",
            "Collecting h11<1,>=0.9.0 (from wsproto->simple-websocket>=0.10.0->python-engineio>=4.8.0->python-socketio>=5.0.2->flask-socketio->prosodic==2.0.0.dev1)\n",
            "  Downloading h11-0.14.0-py3-none-any.whl.metadata (8.2 kB)\n",
            "Using cached click-8.1.7-py3-none-any.whl (97 kB)\n",
            "Downloading flask-3.0.2-py3-none-any.whl (101 kB)\n",
            "\u001b[2K   \u001b[90m━━━━━━━━━━━━━━━━━━━━━━━━━━━━━━━━━━━━━━━━\u001b[0m \u001b[32m101.3/101.3 kB\u001b[0m \u001b[31m8.1 MB/s\u001b[0m eta \u001b[36m0:00:00\u001b[0m\n",
            "\u001b[?25hDownloading Flask_SocketIO-5.3.6-py3-none-any.whl (18 kB)\n",
            "Downloading ftfy-6.2.0-py3-none-any.whl (54 kB)\n",
            "\u001b[2K   \u001b[90m━━━━━━━━━━━━━━━━━━━━━━━━━━━━━━━━━━━━━━━━\u001b[0m \u001b[32m54.4/54.4 kB\u001b[0m \u001b[31m3.9 MB/s\u001b[0m eta \u001b[36m0:00:00\u001b[0m\n",
            "\u001b[?25hDownloading gevent-24.2.1-cp310-cp310-manylinux_2_28_x86_64.whl (6.5 MB)\n",
            "\u001b[2K   \u001b[90m━━━━━━━━━━━━━━━━━━━━━━━━━━━━━━━━━━━━━━━━\u001b[0m \u001b[32m6.5/6.5 MB\u001b[0m \u001b[31m14.7 MB/s\u001b[0m eta \u001b[36m0:00:00\u001b[0m00:01\u001b[0m00:01\u001b[0m\n",
            "\u001b[?25hDownloading gevent_websocket-0.10.1-py3-none-any.whl (22 kB)\n",
            "Downloading logmap-0.0.3-py3-none-any.whl (18 kB)\n",
            "Downloading loguru-0.7.2-py3-none-any.whl (62 kB)\n",
            "\u001b[2K   \u001b[90m━━━━━━━━━━━━━━━━━━━━━━━━━━━━━━━━━━━━━━━━\u001b[0m \u001b[32m62.5/62.5 kB\u001b[0m \u001b[31m4.6 MB/s\u001b[0m eta \u001b[36m0:00:00\u001b[0m\n",
            "\u001b[?25hDownloading multiset-3.0.2-py2.py3-none-any.whl (9.6 kB)\n",
            "Using cached nltk-3.8.1-py3-none-any.whl (1.5 MB)\n",
            "Downloading numpy-1.26.4-cp310-cp310-manylinux_2_17_x86_64.manylinux2014_x86_64.whl (18.2 MB)\n",
            "\u001b[2K   \u001b[90m━━━━━━━━━━━━━━━━━━━━━━━━━━━━━━━━━━━━━━━━\u001b[0m \u001b[32m18.2/18.2 MB\u001b[0m \u001b[31m14.0 MB/s\u001b[0m eta \u001b[36m0:00:00\u001b[0m00:01\u001b[0m00:01\u001b[0m\n",
            "\u001b[?25hDownloading ordered_set-4.1.0-py3-none-any.whl (7.6 kB)\n",
            "Downloading orjson-3.9.15-cp310-cp310-manylinux_2_17_x86_64.manylinux2014_x86_64.whl (138 kB)\n",
            "\u001b[2K   \u001b[90m━━━━━━━━━━━━━━━━━━━━━━━━━━━━━━━━━━━━━━━━\u001b[0m \u001b[32m138.5/138.5 kB\u001b[0m \u001b[31m10.3 MB/s\u001b[0m eta \u001b[36m0:00:00\u001b[0m\n",
            "\u001b[?25hDownloading pandas-2.2.1-cp310-cp310-manylinux_2_17_x86_64.manylinux2014_x86_64.whl (13.0 MB)\n",
            "\u001b[2K   \u001b[90m━━━━━━━━━━━━━━━━━━━━━━━━━━━━━━━━━━━━━━━━\u001b[0m \u001b[32m13.0/13.0 MB\u001b[0m \u001b[31m14.5 MB/s\u001b[0m eta \u001b[36m0:00:00\u001b[0m00:01\u001b[0m00:01\u001b[0m\n",
            "\u001b[?25hDownloading phonemizer-3.2.1-py3-none-any.whl (90 kB)\n",
            "\u001b[2K   \u001b[90m━━━━━━━━━━━━━━━━━━━━━━━━━━━━━━━━━━━━━━━━\u001b[0m \u001b[32m90.6/90.6 kB\u001b[0m \u001b[31m7.6 MB/s\u001b[0m eta \u001b[36m0:00:00\u001b[0m\n",
            "\u001b[?25hDownloading redis_dict-2.5.0-py3-none-any.whl (11 kB)\n",
            "Using cached attrs-23.2.0-py3-none-any.whl (60 kB)\n",
            "Downloading blinker-1.7.0-py3-none-any.whl (13 kB)\n",
            "Downloading greenlet-3.0.3-cp310-cp310-manylinux_2_24_x86_64.manylinux_2_28_x86_64.whl (616 kB)\n",
            "\u001b[2K   \u001b[90m━━━━━━━━━━━━━━━━━━━━━━━━━━━━━━━━━━━━━━━━\u001b[0m \u001b[32m616.0/616.0 kB\u001b[0m \u001b[31m14.0 MB/s\u001b[0m eta \u001b[36m0:00:00\u001b[0m00:01\u001b[0m\n",
            "\u001b[?25hDownloading itsdangerous-2.1.2-py3-none-any.whl (15 kB)\n",
            "Using cached Jinja2-3.1.3-py3-none-any.whl (133 kB)\n",
            "Downloading python_socketio-5.11.1-py3-none-any.whl (75 kB)\n",
            "\u001b[2K   \u001b[90m━━━━━━━━━━━━━━━━━━━━━━━━━━━━━━━━━━━━━━━━\u001b[0m \u001b[32m75.5/75.5 kB\u001b[0m \u001b[31m5.5 MB/s\u001b[0m eta \u001b[36m0:00:00\u001b[0m\n",
            "\u001b[?25hUsing cached pytz-2024.1-py2.py3-none-any.whl (505 kB)\n",
            "Using cached regex-2023.12.25-cp310-cp310-manylinux_2_17_x86_64.manylinux2014_x86_64.whl (773 kB)\n",
            "Downloading tzdata-2024.1-py2.py3-none-any.whl (345 kB)\n",
            "\u001b[2K   \u001b[90m━━━━━━━━━━━━━━━━━━━━━━━━━━━━━━━━━━━━━━━━\u001b[0m \u001b[32m345.4/345.4 kB\u001b[0m \u001b[31m14.3 MB/s\u001b[0m eta \u001b[36m0:00:00\u001b[0m\n",
            "\u001b[?25hUsing cached werkzeug-3.0.1-py3-none-any.whl (226 kB)\n",
            "Downloading dlinfo-1.2.1-py3-none-any.whl (3.6 kB)\n",
            "Downloading humanfriendly-10.0-py2.py3-none-any.whl (86 kB)\n",
            "\u001b[2K   \u001b[90m━━━━━━━━━━━━━━━━━━━━━━━━━━━━━━━━━━━━━━━━\u001b[0m \u001b[32m86.8/86.8 kB\u001b[0m \u001b[31m6.1 MB/s\u001b[0m eta \u001b[36m0:00:00\u001b[0m\n",
            "\u001b[?25hUsing cached joblib-1.3.2-py3-none-any.whl (302 kB)\n",
            "Downloading multiprocess-0.70.16-py310-none-any.whl (134 kB)\n",
            "\u001b[2K   \u001b[90m━━━━━━━━━━━━━━━━━━━━━━━━━━━━━━━━━━━━━━━━\u001b[0m \u001b[32m134.8/134.8 kB\u001b[0m \u001b[31m9.5 MB/s\u001b[0m eta \u001b[36m0:00:00\u001b[0m\n",
            "\u001b[?25hDownloading panphon-0.20.0-py2.py3-none-any.whl (73 kB)\n",
            "\u001b[2K   \u001b[90m━━━━━━━━━━━━━━━━━━━━━━━━━━━━━━━━━━━━━━━━\u001b[0m \u001b[32m73.6/73.6 kB\u001b[0m \u001b[31m5.6 MB/s\u001b[0m eta \u001b[36m0:00:00\u001b[0m\n",
            "\u001b[?25hDownloading redis-5.0.3-py3-none-any.whl (251 kB)\n",
            "\u001b[2K   \u001b[90m━━━━━━━━━━━━━━━━━━━━━━━━━━━━━━━━━━━━━━━━\u001b[0m \u001b[32m251.8/251.8 kB\u001b[0m \u001b[31m10.8 MB/s\u001b[0m eta \u001b[36m0:00:00\u001b[0m\n",
            "\u001b[?25hDownloading segments-2.2.1-py2.py3-none-any.whl (15 kB)\n",
            "Downloading tqdm-4.66.2-py3-none-any.whl (78 kB)\n",
            "\u001b[2K   \u001b[90m━━━━━━━━━━━━━━━━━━━━━━━━━━━━━━━━━━━━━━━━\u001b[0m \u001b[32m78.3/78.3 kB\u001b[0m \u001b[31m6.9 MB/s\u001b[0m eta \u001b[36m0:00:00\u001b[0m\n",
            "\u001b[?25hDownloading zope.event-5.0-py3-none-any.whl (6.8 kB)\n",
            "Downloading zope.interface-6.2-cp310-cp310-manylinux_2_5_x86_64.manylinux1_x86_64.manylinux_2_17_x86_64.manylinux2014_x86_64.whl (247 kB)\n",
            "\u001b[2K   \u001b[90m━━━━━━━━━━━━━━━━━━━━━━━━━━━━━━━━━━━━━━━━\u001b[0m \u001b[32m247.3/247.3 kB\u001b[0m \u001b[31m15.2 MB/s\u001b[0m eta \u001b[36m0:00:00\u001b[0m\n",
            "\u001b[?25hDownloading async_timeout-4.0.3-py3-none-any.whl (5.7 kB)\n",
            "Downloading bidict-0.23.1-py3-none-any.whl (32 kB)\n",
            "Downloading clldutils-3.22.2-py2.py3-none-any.whl (1.7 MB)\n",
            "\u001b[2K   \u001b[90m━━━━━━━━━━━━━━━━━━━━━━━━━━━━━━━━━━━━━━━━\u001b[0m \u001b[32m1.7/1.7 MB\u001b[0m \u001b[31m15.1 MB/s\u001b[0m eta \u001b[36m0:00:00\u001b[0m00:01\u001b[0m00:01\u001b[0m\n",
            "\u001b[?25hDownloading csvw-3.3.0-py2.py3-none-any.whl (57 kB)\n",
            "\u001b[2K   \u001b[90m━━━━━━━━━━━━━━━━━━━━━━━━━━━━━━━━━━━━━━━━\u001b[0m \u001b[32m57.8/57.8 kB\u001b[0m \u001b[31m4.1 MB/s\u001b[0m eta \u001b[36m0:00:00\u001b[0m\n",
            "\u001b[?25hDownloading dill-0.3.8-py3-none-any.whl (116 kB)\n",
            "\u001b[2K   \u001b[90m━━━━━━━━━━━━━━━━━━━━━━━━━━━━━━━━━━━━━━━━\u001b[0m \u001b[32m116.3/116.3 kB\u001b[0m \u001b[31m8.7 MB/s\u001b[0m eta \u001b[36m0:00:00\u001b[0m\n",
            "\u001b[?25hDownloading MarkupSafe-2.1.5-cp310-cp310-manylinux_2_17_x86_64.manylinux2014_x86_64.whl (25 kB)\n",
            "Downloading python_engineio-4.9.0-py3-none-any.whl (57 kB)\n",
            "\u001b[2K   \u001b[90m━━━━━━━━━━━━━━━━━━━━━━━━━━━━━━━━━━━━━━━━\u001b[0m \u001b[32m57.5/57.5 kB\u001b[0m \u001b[31m4.3 MB/s\u001b[0m eta \u001b[36m0:00:00\u001b[0m\n",
            "\u001b[?25hDownloading munkres-1.1.4-py2.py3-none-any.whl (7.0 kB)\n",
            "Downloading PyYAML-6.0.1-cp310-cp310-manylinux_2_17_x86_64.manylinux2014_x86_64.whl (705 kB)\n",
            "\u001b[2K   \u001b[90m━━━━━━━━━━━━━━━━━━━━━━━━━━━━━━━━━━━━━━━━\u001b[0m \u001b[32m705.5/705.5 kB\u001b[0m \u001b[31m7.6 MB/s\u001b[0m eta \u001b[36m0:00:00\u001b[0ma \u001b[36m0:00:01\u001b[0mm\n",
            "\u001b[?25hDownloading bibtexparser-2.0.0b7-py3-none-any.whl (38 kB)\n",
            "Downloading rfc3986-1.5.0-py2.py3-none-any.whl (31 kB)\n",
            "Downloading simple_websocket-1.0.0-py3-none-any.whl (13 kB)\n",
            "Downloading tabulate-0.9.0-py3-none-any.whl (35 kB)\n",
            "Downloading uritemplate-4.1.1-py2.py3-none-any.whl (10 kB)\n",
            "Downloading Babel-2.14.0-py3-none-any.whl (11.0 MB)\n",
            "\u001b[2K   \u001b[90m━━━━━━━━━━━━━━━━━━━━━━━━━━━━━━━━━━━━━━━━\u001b[0m \u001b[32m11.0/11.0 MB\u001b[0m \u001b[31m14.8 MB/s\u001b[0m eta \u001b[36m0:00:00\u001b[0m00:01\u001b[0m00:01\u001b[0m\n",
            "\u001b[?25hDownloading colorama-0.4.6-py2.py3-none-any.whl (25 kB)\n",
            "Downloading colorlog-6.8.2-py3-none-any.whl (11 kB)\n",
            "Downloading isodate-0.6.1-py2.py3-none-any.whl (41 kB)\n",
            "\u001b[2K   \u001b[90m━━━━━━━━━━━━━━━━━━━━━━━━━━━━━━━━━━━━━━━━\u001b[0m \u001b[32m41.7/41.7 kB\u001b[0m \u001b[31m3.1 MB/s\u001b[0m eta \u001b[36m0:00:00\u001b[0m\n",
            "\u001b[?25hDownloading jsonschema-4.21.1-py3-none-any.whl (85 kB)\n",
            "\u001b[2K   \u001b[90m━━━━━━━━━━━━━━━━━━━━━━━━━━━━━━━━━━━━━━━━\u001b[0m \u001b[32m85.5/85.5 kB\u001b[0m \u001b[31m7.2 MB/s\u001b[0m eta \u001b[36m0:00:00\u001b[0m\n",
            "\u001b[?25hDownloading language_tags-1.2.0-py3-none-any.whl (213 kB)\n",
            "\u001b[2K   \u001b[90m━━━━━━━━━━━━━━━━━━━━━━━━━━━━━━━━━━━━━━━━\u001b[0m \u001b[32m213.4/213.4 kB\u001b[0m \u001b[31m11.2 MB/s\u001b[0m eta \u001b[36m0:00:00\u001b[0m\n",
            "\u001b[?25hDownloading lxml-5.1.0-cp310-cp310-manylinux_2_17_x86_64.manylinux2014_x86_64.whl (8.0 MB)\n",
            "\u001b[2K   \u001b[90m━━━━━━━━━━━━━━━━━━━━━━━━━━━━━━━━━━━━━━━━\u001b[0m \u001b[32m8.0/8.0 MB\u001b[0m \u001b[31m15.2 MB/s\u001b[0m eta \u001b[36m0:00:00\u001b[0m00:01\u001b[0m00:01\u001b[0m\n",
            "\u001b[?25hDownloading Markdown-3.6-py3-none-any.whl (105 kB)\n",
            "\u001b[2K   \u001b[90m━━━━━━━━━━━━━━━━━━━━━━━━━━━━━━━━━━━━━━━━\u001b[0m \u001b[32m105.4/105.4 kB\u001b[0m \u001b[31m8.3 MB/s\u001b[0m eta \u001b[36m0:00:00\u001b[0m\n",
            "\u001b[?25hDownloading rdflib-7.0.0-py3-none-any.whl (531 kB)\n",
            "\u001b[2K   \u001b[90m━━━━━━━━━━━━━━━━━━━━━━━━━━━━━━━━━━━━━━━━\u001b[0m \u001b[32m531.9/531.9 kB\u001b[0m \u001b[31m14.7 MB/s\u001b[0m eta \u001b[36m0:00:00\u001b[0m00:01\u001b[0m\n",
            "\u001b[?25hUsing cached requests-2.31.0-py3-none-any.whl (62 kB)\n",
            "Downloading certifi-2024.2.2-py3-none-any.whl (163 kB)\n",
            "\u001b[2K   \u001b[90m━━━━━━━━━━━━━━━━━━━━━━━━━━━━━━━━━━━━━━━━\u001b[0m \u001b[32m163.8/163.8 kB\u001b[0m \u001b[31m7.6 MB/s\u001b[0m eta \u001b[36m0:00:00\u001b[0m\n",
            "\u001b[?25hUsing cached charset_normalizer-3.3.2-cp310-cp310-manylinux_2_17_x86_64.manylinux2014_x86_64.whl (142 kB)\n",
            "Using cached idna-3.6-py3-none-any.whl (61 kB)\n",
            "Downloading jsonschema_specifications-2023.12.1-py3-none-any.whl (18 kB)\n",
            "Downloading pyparsing-3.1.2-py3-none-any.whl (103 kB)\n",
            "\u001b[2K   \u001b[90m━━━━━━━━━━━━━━━━━━━━━━━━━━━━━━━━━━━━━━━━\u001b[0m \u001b[32m103.2/103.2 kB\u001b[0m \u001b[31m8.3 MB/s\u001b[0m eta \u001b[36m0:00:00\u001b[0m\n",
            "\u001b[?25hDownloading referencing-0.34.0-py3-none-any.whl (26 kB)\n",
            "Downloading rpds_py-0.18.0-cp310-cp310-manylinux_2_17_x86_64.manylinux2014_x86_64.whl (1.1 MB)\n",
            "\u001b[2K   \u001b[90m━━━━━━━━━━━━━━━━━━━━━━━━━━━━━━━━━━━━━━━━\u001b[0m \u001b[32m1.1/1.1 MB\u001b[0m \u001b[31m14.5 MB/s\u001b[0m eta \u001b[36m0:00:00\u001b[0m00:01\u001b[0m00:01\u001b[0m\n",
            "\u001b[?25hDownloading urllib3-2.2.1-py3-none-any.whl (121 kB)\n",
            "\u001b[2K   \u001b[90m━━━━━━━━━━━━━━━━━━━━━━━━━━━━━━━━━━━━━━━━\u001b[0m \u001b[32m121.1/121.1 kB\u001b[0m \u001b[31m9.6 MB/s\u001b[0m eta \u001b[36m0:00:00\u001b[0m\n",
            "\u001b[?25hDownloading wsproto-1.2.0-py3-none-any.whl (24 kB)\n",
            "Downloading h11-0.14.0-py3-none-any.whl (58 kB)\n",
            "\u001b[2K   \u001b[90m━━━━━━━━━━━━━━━━━━━━━━━━━━━━━━━━━━━━━━━━\u001b[0m \u001b[32m58.3/58.3 kB\u001b[0m \u001b[31m4.3 MB/s\u001b[0m eta \u001b[36m0:00:00\u001b[0m\n",
            "\u001b[?25hBuilding wheels for collected packages: prosodic, editdistance, gruut-ipa, langdetect, sqlitedict, syllabiphon, unicodecsv, pylatexenc\n",
            "  Building wheel for prosodic (setup.py) ... \u001b[?25ldone\n",
            "\u001b[?25h  Created wheel for prosodic: filename=prosodic-2.0.0.dev1-py3-none-any.whl size=5776830 sha256=4158b9a1877c8776a1108ad44d9ffa6de3c3851eb0c9a4e93110e734d81583ae\n",
            "  Stored in directory: /tmp/pip-ephem-wheel-cache-g9qqkbhp/wheels/b2/8a/59/04d626646d9539930e274167c11ac8a82daa41a2f9eb328e7e\n",
            "  Building wheel for editdistance (pyproject.toml) ... \u001b[?25ldone\n",
            "\u001b[?25h  Created wheel for editdistance: filename=editdistance-0.8.1-cp310-cp310-linux_x86_64.whl size=87920 sha256=662a5b2954c60dc1a23c049c0bbb331cac25416fa7df0c29836f8590b41e2944\n",
            "  Stored in directory: /tmp/pip-ephem-wheel-cache-g9qqkbhp/wheels/a6/af/a7/1cbdc27ec2c4e2cb2832613b7a2432f1e423436b4e9502cfa5\n",
            "  Building wheel for gruut-ipa (setup.py) ... \u001b[?25ldone\n",
            "\u001b[?25h  Created wheel for gruut-ipa: filename=gruut_ipa-0.13.0-py3-none-any.whl size=104871 sha256=71419dd6f8918c0660f921dad6413204c3c8e01b500958f18e1bfe5acf49bdcc\n",
            "  Stored in directory: /home/bouncer/.cache/pip/wheels/7b/18/49/e4f500ecdf0babe757953f844e4d7cd1ea81c5503c09bfe984\n",
            "  Building wheel for langdetect (setup.py) ... \u001b[?25ldone\n",
            "\u001b[?25h  Created wheel for langdetect: filename=langdetect-1.0.9-py3-none-any.whl size=993224 sha256=924560a9cfcd7fb6df3240224fa301f5da5d34844d60701853b07dbc42c00a66\n",
            "  Stored in directory: /home/bouncer/.cache/pip/wheels/95/03/7d/59ea870c70ce4e5a370638b5462a7711ab78fba2f655d05106\n",
            "  Building wheel for sqlitedict (setup.py) ... \u001b[?25ldone\n",
            "\u001b[?25h  Created wheel for sqlitedict: filename=sqlitedict-2.1.0-py3-none-any.whl size=16864 sha256=94a527d02b1bd15c3e7cc0ebd394032ffed5c7bd0ff4ae38ed7919ab8f75ef79\n",
            "  Stored in directory: /home/bouncer/.cache/pip/wheels/79/d6/e7/304e0e6cb2221022c26d8161f7c23cd4f259a9e41e8bbcfabd\n",
            "  Building wheel for syllabiphon (setup.py) ... \u001b[?25ldone\n",
            "\u001b[?25h  Created wheel for syllabiphon: filename=syllabiphon-0.1-py3-none-any.whl size=3362 sha256=7948dd7f82dfa5456667400d20d6b713b35ca02a64a1dd46cca0ba681e622b36\n",
            "  Stored in directory: /tmp/pip-ephem-wheel-cache-g9qqkbhp/wheels/8c/7b/2f/88fa3919224f1309273f65f62429d7e37f26ea763a96b91fd3\n",
            "  Building wheel for unicodecsv (setup.py) ... \u001b[?25ldone\n",
            "\u001b[?25h  Created wheel for unicodecsv: filename=unicodecsv-0.14.1-py3-none-any.whl size=10747 sha256=eac88fe25244238c0748b19ab5fdfc27417b14ac5629e4ac4b42c06dd2a06ea0\n",
            "  Stored in directory: /home/bouncer/.cache/pip/wheels/9c/ea/66/8e45247b09052a933eb1a680b7c64802298faba58aac9b346b\n",
            "  Building wheel for pylatexenc (setup.py) ... \u001b[?25ldone\n",
            "\u001b[?25h  Created wheel for pylatexenc: filename=pylatexenc-2.10-py3-none-any.whl size=136818 sha256=b8fe1aaa4f1ad43c673dc164b33b26ccbc9d05f237684ba713044b3ad9e3fa5e\n",
            "  Stored in directory: /home/bouncer/.cache/pip/wheels/d3/31/8b/e09b0386afd80cfc556c00408c9aeea5c35c4d484a9c762fd5\n",
            "Successfully built prosodic editdistance gruut-ipa langdetect sqlitedict syllabiphon unicodecsv pylatexenc\n",
            "Installing collected packages: unicodecsv, sqlitedict, rfc3986, pytz, pylatexenc, munkres, language-tags, dlinfo, zope.interface, zope.event, urllib3, uritemplate, tzdata, tqdm, tabulate, rpds-py, regex, PyYAML, pyparsing, orjson, ordered-set, numpy, multiset, MarkupSafe, markdown, lxml, loguru, langdetect, joblib, itsdangerous, isodate, idna, humanfriendly, h11, gruut-ipa, greenlet, ftfy, editdistance, dill, colorlog, colorama, click, charset-normalizer, certifi, blinker, bidict, bibtexparser, babel, attrs, async-timeout, wsproto, Werkzeug, requests, referencing, redis, rdflib, panphon, pandas, nltk, multiprocess, Jinja2, gevent, clldutils, syllabiphon, simple-websocket, redis-dict, logmap, jsonschema-specifications, gevent-websocket, flask, python-engineio, jsonschema, python-socketio, csvw, segments, flask-socketio, phonemizer, prosodic\n",
            "Successfully installed Jinja2-3.1.3 MarkupSafe-2.1.5 PyYAML-6.0.1 Werkzeug-3.0.1 async-timeout-4.0.3 attrs-23.2.0 babel-2.14.0 bibtexparser-2.0.0b7 bidict-0.23.1 blinker-1.7.0 certifi-2024.2.2 charset-normalizer-3.3.2 click-8.1.7 clldutils-3.22.2 colorama-0.4.6 colorlog-6.8.2 csvw-3.3.0 dill-0.3.8 dlinfo-1.2.1 editdistance-0.8.1 flask-3.0.2 flask-socketio-5.3.6 ftfy-6.2.0 gevent-24.2.1 gevent-websocket-0.10.1 greenlet-3.0.3 gruut-ipa-0.13.0 h11-0.14.0 humanfriendly-10.0 idna-3.6 isodate-0.6.1 itsdangerous-2.1.2 joblib-1.3.2 jsonschema-4.21.1 jsonschema-specifications-2023.12.1 langdetect-1.0.9 language-tags-1.2.0 logmap-0.0.3 loguru-0.7.2 lxml-5.1.0 markdown-3.6 multiprocess-0.70.16 multiset-3.0.2 munkres-1.1.4 nltk-3.8.1 numpy-1.26.4 ordered-set-4.1.0 orjson-3.9.15 pandas-2.2.1 panphon-0.20.0 phonemizer-3.2.1 prosodic-2.0.0.dev1 pylatexenc-2.10 pyparsing-3.1.2 python-engineio-4.9.0 python-socketio-5.11.1 pytz-2024.1 rdflib-7.0.0 redis-5.0.3 redis-dict-2.5.0 referencing-0.34.0 regex-2023.12.25 requests-2.31.0 rfc3986-1.5.0 rpds-py-0.18.0 segments-2.2.1 simple-websocket-1.0.0 sqlitedict-2.1.0 syllabiphon-0.1 tabulate-0.9.0 tqdm-4.66.2 tzdata-2024.1 unicodecsv-0.14.1 uritemplate-4.1.1 urllib3-2.2.1 wsproto-1.2.0 zope.event-5.0 zope.interface-6.2\n",
            "\u001b[1;31mE: \u001b[0mCould not open lock file /var/lib/dpkg/lock-frontend - open (13: Permission denied)\u001b[0m\n",
            "\u001b[1;31mE: \u001b[0mUnable to acquire the dpkg frontend lock (/var/lib/dpkg/lock-frontend), are you root?\u001b[0m\n"
          ]
        }
      ],
      "source": [
        "!pip install numpy pandas pickle seaborn music21 iteration_utilities\n",
        "!pip install git+https://github.com/quadrismegistus/prosodic.git\n",
        "!apt install musescore3\n"
      ]
    },
    {
      "cell_type": "code",
      "execution_count": 4,
      "id": "016ed905",
      "metadata": {
        "id": "016ed905"
      },
      "outputs": [
        {
          "name": "stdout",
          "output_type": "stream",
          "text": [
            "The autoreload extension is already loaded. To reload it, use:\n",
            "  %reload_ext autoreload\n"
          ]
        }
      ],
      "source": [
        "%load_ext autoreload\n",
        "%autoreload 2\n",
        "\n",
        "import numpy as np\n",
        "import pandas as pd\n",
        "import os\n",
        "import seaborn as sns\n",
        "import pickle\n",
        "import music21\n",
        "\n",
        "from fractions import Fraction\n",
        "from collections import defaultdict, Counter\n",
        "from iteration_utilities import deepflatten #flatten nested lists\n",
        "\n",
        "from music21 import midi, note, stream, instrument, meter, key\n",
        "import itertools\n",
        "import random\n",
        "\n",
        "import string"
      ]
    },
    {
      "cell_type": "markdown",
      "id": "ef63fda2",
      "metadata": {
        "id": "ef63fda2"
      },
      "source": [
        "<a id=\"2\"></a>\n",
        "\n",
        "***---***\n",
        "\n",
        "\n",
        "## 2. Accessing Rhythm\n",
        "\n",
        "***---***"
      ]
    },
    {
      "cell_type": "markdown",
      "id": "3c0f0666",
      "metadata": {
        "id": "3c0f0666"
      },
      "source": [
        "Let's move into computational analysis of rhythm. First, let's directly access the elements described above (duration, onset, rest) via music21."
      ]
    },
    {
      "cell_type": "markdown",
      "id": "6fdea642",
      "metadata": {
        "id": "6fdea642"
      },
      "source": [
        "#### 2.1 Pull in the sample score"
      ]
    },
    {
      "cell_type": "markdown",
      "id": "1f62214d",
      "metadata": {
        "id": "1f62214d"
      },
      "source": [
        "First, pull in our first sample score and have a listen.\n",
        "\n",
        "Appreciate the original version while you can! We're about to take a sledgehammer to it in preparation for rhythm analysis. ⚒️"
      ]
    },
    {
      "cell_type": "code",
      "execution_count": 9,
      "id": "9ae0eb52",
      "metadata": {
        "id": "9ae0eb52"
      },
      "outputs": [
        {
          "data": {
            "text/html": [
              "\n",
              "        <div id=\"midiPlayerDiv15583\"></div>\n",
              "        <link rel=\"stylesheet\" href=\"https://cuthbertLab.github.io/music21j/css/m21.css\">\n",
              "        \n",
              "        <script\n",
              "        src=\"https://cdnjs.cloudflare.com/ajax/libs/require.js/2.3.6/require.min.js\"\n",
              "        ></script>\n",
              "    \n",
              "        <script>\n",
              "        function midiPlayerDiv15583_play() {\n",
              "            const rq = require.config({\n",
              "                paths: {\n",
              "                    'music21': 'https://cuthbertLab.github.io/music21j/releases/music21.debug',\n",
              "                }\n",
              "            });\n",
              "            rq(['music21'], function(music21) {\n",
              "                mp = new music21.miditools.MidiPlayer();\n",
              "                mp.addPlayer(\"#midiPlayerDiv15583\");\n",
              "                mp.base64Load(\"data:audio/midi;base64,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\");\n",
              "            });\n",
              "        }\n",
              "        if (typeof require === 'undefined') {\n",
              "            setTimeout(midiPlayerDiv15583_play, 2000);\n",
              "        } else {\n",
              "            midiPlayerDiv15583_play();\n",
              "        }\n",
              "        </script>"
            ],
            "text/plain": [
              "<IPython.core.display.HTML object>"
            ]
          },
          "metadata": {},
          "output_type": "display_data"
        }
      ],
      "source": [
        "import music21\n",
        "import os\n",
        "import pandas as pd\n",
        "\n",
        "# Pull in the score and listen to it a bit\n",
        "sample_score_tmp = music21.converter.parse(f'{dependencies}blue_bossa.mxl')\n",
        "sample_score_tmp.show(\"midi\")"
      ]
    },
    {
      "cell_type": "markdown",
      "id": "4f34ba7d",
      "metadata": {
        "id": "4f34ba7d"
      },
      "source": [
        "A groovy (and famous) little tune. But we don't need all that groove! The next cell uses a function in helpers.py to strip away all the things we really don't need to study rhythm. As with all functions from helpers.py, you are encouraged but not required to take a look at the underlying code, which may be a good reference for your own work in the future."
      ]
    },
    {
      "cell_type": "code",
      "execution_count": null,
      "id": "v3lb8ikcb2t0",
      "metadata": {
        "id": "v3lb8ikcb2t0"
      },
      "outputs": [],
      "source": [
        "# helper functions\n",
        "\n",
        "def helpers_simplify_score_for_rhythm_analysis(sample_score_tmp):\n",
        "\n",
        "    # remove chord charts, metronome mark, dynamics\n",
        "    for part in sample_score_tmp.parts:\n",
        "        for measure in part.getElementsByClass('Measure'):\n",
        "            for event in measure:\n",
        "                if isinstance(event, music21.harmony.ChordSymbol):\n",
        "                    measure.remove(event)\n",
        "                if isinstance(event, music21.tempo.MetronomeMark):\n",
        "                    measure.remove(event)\n",
        "                if isinstance(event, music21.dynamics.Dynamic):\n",
        "                    measure.remove(event)\n",
        "                if isinstance(event, music21.key.KeySignature):\n",
        "                    measure.remove(event)\n",
        "\n",
        "    # combine voice tracks intra-staff (done by extracted staffs and recombining)\n",
        "    chordified_treble = sample_score_tmp.parts[0].chordify()\n",
        "    chordified_bass = sample_score_tmp.parts[1].chordify()\n",
        "    sample_score = music21.stream.Score()\n",
        "    sample_score.insert(0, chordified_treble)\n",
        "    sample_score.insert(0, chordified_bass)\n",
        "\n",
        "    # cast all single-note chord objects (created by chordify) as note objects so students see more typical music21 score object structure\n",
        "    staff_count = 0\n",
        "    for part in sample_score.parts:\n",
        "        staff_count += 1\n",
        "        for measure in part.getElementsByClass('Measure'):\n",
        "            for event in measure:\n",
        "                if isinstance(event, music21.chord.Chord): # and len(event.notes) == 1:\n",
        "                    note_version = music21.note.Note()\n",
        "                    if staff_count == 1:\n",
        "                        note_version.pitch = music21.pitch.Pitch('C4')\n",
        "                    elif staff_count == 2:\n",
        "                        note_version.pitch = music21.pitch.Pitch('C3')\n",
        "                    note_version.duration = event.duration\n",
        "                    start_found = 0\n",
        "                    continue_found = 0\n",
        "                    none_found = 0\n",
        "                    all_ties_stop = 1\n",
        "                    for nte in event.notes:\n",
        "                        try:\n",
        "                            curr_tie_obj = nte.tie.type\n",
        "                        except:\n",
        "                            curr_tie_obj = None\n",
        "                        if (curr_tie_obj == 'start'):\n",
        "                            start_found = 1\n",
        "                        if (curr_tie_obj == 'continue'):\n",
        "                            continue_found = 1\n",
        "                        if (curr_tie_obj is None):\n",
        "                            none_found = 1\n",
        "                        if (curr_tie_obj != 'stop'):\n",
        "                            all_ties_stop = 0\n",
        "                    if start_found == 1:\n",
        "                        note_version.tie = music21.tie.Tie('start')\n",
        "                    elif none_found == 1:\n",
        "                        note_version.tie = None\n",
        "                    elif all_ties_stop == 1:\n",
        "                        note_version.tie = music21.tie.Tie('stop')\n",
        "                    elif continue_found == 1:\n",
        "                        note_version.tie = music21.tie.Tie('continue')\n",
        "                    note_version.offset = event.offset\n",
        "                    note_version.articulations = event.articulations\n",
        "                    note_version.expressions = event.expressions\n",
        "                    measure.replace(event, note_version)\n",
        "\n",
        "    # fix instances where tie start leads to tie None (should be no tie but previous loop isn't built to observe two consecutive elements)\n",
        "    # the ties are a pain >:\"{\n",
        "    for part in sample_score.parts:\n",
        "        for measure in part.getElementsByClass('Measure'):\n",
        "            for i in range(len(measure)-1):\n",
        "                curr_event = measure[i]\n",
        "                next_event = measure[i+1]\n",
        "                if isinstance(curr_event, music21.note.Note) and isinstance(next_event, music21.note.Note):\n",
        "                    try:\n",
        "                        curr_tie = curr_event.tie.type\n",
        "                    except:\n",
        "                        curr_tie = None\n",
        "                    try:\n",
        "                        next_tie = next_event.tie.type\n",
        "                    except:\n",
        "                        next_tie = None\n",
        "                    if (curr_tie == 'start' or curr_tie == 'continue') and (next_tie == 'start' or next_tie is None):\n",
        "                        measure[i].tie = music21.tie.Tie('stop')\n",
        "                if isinstance(curr_event, music21.note.Rest):\n",
        "                    measure[i].tie = None\n",
        "\n",
        "    # combine tied notes intra-staff\n",
        "    for part in sample_score.parts:\n",
        "        active_tie = 0\n",
        "        for measure in part.getElementsByClass('Measure'):\n",
        "            for i in range(len(measure)):\n",
        "                if isinstance(measure[i], music21.note.Note):\n",
        "                    if measure[i].tie is not None:\n",
        "                        if measure[i].tie.type == \"start\":\n",
        "                            active_tie = 1\n",
        "                        elif measure[i].tie.type == \"stop\" and active_tie == 1:\n",
        "                            active_tie = 0\n",
        "                        elif measure[i].tie.type == \"stop\" and active_tie == 0:\n",
        "                            measure[i].tie = None\n",
        "\n",
        "    treble = sample_score.parts[0]\n",
        "    for measure in treble.getElementsByClass('Measure'):\n",
        "        i = 0\n",
        "        len_measure = len(measure)\n",
        "        while i < len_measure-1:\n",
        "            if isinstance(measure[i], music21.note.Note) and isinstance(measure[i+1], music21.note.Note):\n",
        "                if measure[i].tie is not None and measure[i+1].tie is not None:\n",
        "                    measure[i].duration = music21.duration.Duration(measure[i].duration.quarterLength + measure[i+1].duration.quarterLength)\n",
        "                    if measure[i+1].tie is not None:\n",
        "                        if measure[i+1].tie.type == \"stop\":\n",
        "                            measure[i].tie = None\n",
        "                    measure.remove(measure[i+1])\n",
        "            i += 1\n",
        "            len_measure = len(measure)\n",
        "\n",
        "    bass = sample_score.parts[1]\n",
        "    for measure in bass.getElementsByClass('Measure'):\n",
        "        i = 0\n",
        "        len_measure = len(measure)\n",
        "        while i < len_measure-1:\n",
        "            if isinstance(measure[i], music21.note.Note) and isinstance(measure[i+1], music21.note.Note):\n",
        "                if measure[i].tie is not None and measure[i+1].tie is not None:\n",
        "                    measure[i].duration = music21.duration.Duration(measure[i].duration.quarterLength + measure[i+1].duration.quarterLength)\n",
        "                    if measure[i+1].tie is not None:\n",
        "                        if measure[i+1].tie.type == \"stop\":\n",
        "                            measure[i].tie = None\n",
        "                    measure.remove(measure[i+1])\n",
        "            i += 1\n",
        "            len_measure = len(measure)\n",
        "\n",
        "    sample_score = music21.stream.Score()\n",
        "    sample_score.insert(0, treble)\n",
        "    sample_score.insert(0, bass)\n",
        "\n",
        "    # deciding against repeat expands for now due to issues with measure number\n",
        "\n",
        "    return sample_score\n"
      ]
    },
    {
      "cell_type": "code",
      "execution_count": null,
      "id": "0657539d",
      "metadata": {
        "id": "0657539d"
      },
      "outputs": [],
      "source": [
        "import sys\n",
        "sys.path.append(\"dependencies\")\n",
        "\n",
        "# Strip out unnecessary elements\n",
        "sample_score = helpers_simplify_score_for_rhythm_analysis(sample_score_tmp)\n",
        "sample_score.show()"
      ]
    },
    {
      "cell_type": "markdown",
      "id": "c3303093",
      "metadata": {
        "id": "c3303093"
      },
      "source": [
        "\n",
        "Key signature, chord vs. note, separate voice tracks intra-staff, chord charts, dynamics, **pitch** - these are all <u>irrelevant</u>! It may not be as exciting to listen to (see for yourself), but it should be easier to deal with visually and in music21.\n",
        "\n",
        "Let's print out the rhythm elements described in the theory above for the first two measures of our sample score. The loop below may be offputting, but make sure you understand it. It's showing you how to access event-level information from a score."
      ]
    },
    {
      "cell_type": "code",
      "execution_count": null,
      "id": "36b3fc30",
      "metadata": {
        "id": "36b3fc30"
      },
      "outputs": [],
      "source": [
        "import music21\n",
        "print(\"Data rows will be of the form:\\n<type> <onset_in_measure> <duration> <tie> \\n\")\n",
        "print(\"Time Signature: \" + sample_score.flat.getElementsByClass('TimeSignature')[0].ratioString + \"\\n\")\n",
        "\n",
        "for staff in sample_score.parts:\n",
        "    staff_name = staff.elements[1].clef.name\n",
        "    for measure in staff.getElementsByClass('Measure'):\n",
        "        if measure.measureNumber <= 2 and measure.measureNumber > 0:\n",
        "            print(staff_name + \" measure \" + str(measure.measureNumber))\n",
        "            for event in measure.recurse():\n",
        "                label = \"\"\n",
        "                if isinstance(event, music21.note.Note):\n",
        "                    label = \"sounded\"\n",
        "                if isinstance(event, music21.note.Rest):\n",
        "                    label = \"unsounded\"\n",
        "                try:\n",
        "                    tie_info = \"tie_\" + event.tie.type\n",
        "                except:\n",
        "                    tie_info = \"\"\n",
        "                if label != \"\":\n",
        "                    print(label, event.offset, event.duration.quarterLength, tie_info)\n",
        "    print(\"\")"
      ]
    },
    {
      "cell_type": "markdown",
      "id": "add6460d",
      "metadata": {
        "id": "add6460d"
      },
      "source": [
        "![bossa_m1m2](https://drive.google.com/uc?export=view&id=1d1gTs6QYCXHLwccPBl8VFmoKK0M4YGoH)\n"
      ]
    },
    {
      "cell_type": "markdown",
      "id": "379d52c1",
      "metadata": {
        "id": "379d52c1"
      },
      "source": [
        "To address the rows:\n",
        "- 'Sounded' or 'unsounded' is self explanatory\n",
        "- The second datapoint in each row refers to **onset**: the (0-indexed) beat at which the note or rest begins. Hence, 3.5 means an event begins halfway through the *fourth* (and final) beat.\n",
        "- The third datapoint in each row corresponds to **duration**, and is measured in quarter notes via music21's quarterLength attribute. In this case, this number equivalently refers to number of beats - but **only** because the time signature has a 4 at the bottom. **quarterLength will not always refer to beat count!**\n",
        "- Tie information is occasionally a fourth datapoint. That a note <u>shares an onset</u> with a previous note is relevant to rhythm analysis.\n",
        "\n",
        "Time for *you* to get involved. Would you please throw the data above (+ a bit more) into a dataframe? It'd be very kind of you."
      ]
    },
    {
      "cell_type": "markdown",
      "id": "87de715d",
      "metadata": {
        "id": "87de715d"
      },
      "source": [
        "<div style=\"padding:8px 0 8px 15px;border-left:3px solid #03befc;background-color:#F3F3F3;\">\n",
        "    \n",
        "- 🎯 **Goal:** Cast the rhythm data in the sample score as a pandas dataframe. The dataframe should have one note or rest per row, with the following columns:\n",
        "  \n",
        "  - *staff*: \"treble\" or \"bass\"\n",
        "  - *measure_number*: 1, 2, 3, ...\n",
        "  - *event_type*: \"sounded\" or \"unsounded\"\n",
        "  - *onset_in_measure* (float): [0,4)\n",
        "  - ***onset_in_score*** (float): [0, ∞)\n",
        "  - *duration* (float): (0,4]\n",
        "  - *tie_info* (string): \"tie_start\", \"tie_continue\", \"tie_stop\", or nothing\n",
        "\n",
        "  Please do not 'unfold' repeat bars. This tutorial was designed without such unfolding. For your own reference, music21 has a method called expandRepeats() that can help with this.<br>\n",
        "\n",
        "- 💻  **API:**  The code above extracts everything you need except *onset_in_score*. You need to (1) create *onset_in_score* and (2) actually place the data into a pandas dataframe.\n",
        "\n",
        "  - *onset_in_score* can be a simple multiplication composed of measure number and *onset_in_measure*\n",
        "  - There are many ways to create a pandas dataframe. One method would be to maintain a list of 7-element tuples and later convert the list with proper column names.\n",
        "\n",
        "  Hint: start with the code above.\n",
        "\n",
        "</div>"
      ]
    },
    {
      "cell_type": "code",
      "execution_count": null,
      "id": "efa3761a",
      "metadata": {
        "id": "efa3761a"
      },
      "outputs": [],
      "source": [
        "import pandas as pd\n",
        "\n",
        "## STUDENT SECTION - ##\n",
        "rhythm_data_list = []\n",
        "for clef in sample_score.parts:\n",
        "    global_onset = 0\n",
        "    clef_name = clef.elements[1].clef.name\n",
        "    for measure in clef.getElementsByClass('Measure'):\n",
        "        for event in measure.recurse():\n",
        "            label = \"\"\n",
        "            if isinstance(event, music21.note.Note):\n",
        "                label = \"sounded\"\n",
        "            if isinstance(event, music21.note.Rest):\n",
        "                label = \"unsounded\"\n",
        "            try:\n",
        "                tie_info = \"tie_\" + event.tie.type\n",
        "            except:\n",
        "                tie_info = \"\"\n",
        "            if label != \"\":\n",
        "                global_onset = ((measure.measureNumber-1) * 4) + event.offset\n",
        "                rhythm_data_list.append((clef_name, measure.measureNumber, label, event.offset, global_onset, event.duration.quarterLength, tie_info))\n",
        "rhythm_data_df = pd.DataFrame(rhythm_data_list, columns=['staff', 'measure_number', 'event_type', 'onset_in_measure', 'onset_in_score', 'duration', 'tie_info'])\n",
        "## END STUDENT SECTION ##\n",
        "\n",
        "# Check output with reference photo\n",
        "pd.concat([rhythm_data_df.head(11), rhythm_data_df.tail(4)], axis = 0)"
      ]
    },
    {
      "cell_type": "markdown",
      "id": "3c8ccb90",
      "metadata": {
        "id": "3c8ccb90"
      },
      "source": [
        "\n",
        "\n",
        "![bossa_data](https://drive.google.com/uc?export=view&id=1y85E7GnNF7Mu6K6tSVWwWnAw7pDsL2q2)\n",
        "\n"
      ]
    },
    {
      "cell_type": "markdown",
      "id": "13c7c97e",
      "metadata": {
        "id": "13c7c97e"
      },
      "source": [
        "Great! Now we have access to rhythm-informing datapoints in a nice clean data structure.\n",
        "\n",
        "But.. how do we get a handle on what's really happening with our rhythm?"
      ]
    },
    {
      "cell_type": "markdown",
      "id": "21a491c9",
      "metadata": {
        "id": "21a491c9"
      },
      "source": [
        "#### 2.2 Distribution of Sounded Event Onsets, 4-Beat Range\n",
        "\n",
        "If we're curious about the metrical grid specifically, one option is to study the onset locations of sounded events in our score. Let's do this now.\n",
        "\n",
        "We'll start with the intra-measure onset distribution of sounded events **along the bass staff only**."
      ]
    },
    {
      "cell_type": "markdown",
      "id": "a4c0e14e",
      "metadata": {
        "id": "a4c0e14e"
      },
      "source": [
        "<div style=\"padding:8px 0 8px 15px;border-left:3px solid #03befc;background-color:#F3F3F3;\">\n",
        "    \n",
        "- 🎯 **Goal:** Complete *extract_onset_in_measure()*, which returns a pandas series or Python list containing *onset_in_measure* values for all <u>**bass-staff sounded events**</u>\n",
        "\n",
        "- 💻  **API:** Filter the *subset* dataframe below for sounded events and extract their *onset_in_measure* values.\n",
        "    - Be sure to remove notes that are tied to previous notes! We're interested in onsets here, so a note tied to a previous note has already 'started' its sound, so to speak.\n",
        "\n",
        "</div>"
      ]
    },
    {
      "cell_type": "code",
      "execution_count": null,
      "id": "pgiCy-zVcZEE",
      "metadata": {
        "id": "pgiCy-zVcZEE"
      },
      "outputs": [],
      "source": [
        "# helper functions\n",
        "import matplotlib.pyplot as plt\n",
        "\n",
        "def helpers_onset_dist(onsets, measure_count = 4):\n",
        "\n",
        "    if type(onsets) is not list:\n",
        "        onsets = onsets.tolist()\n",
        "\n",
        "    beat_locations = [i * 0.5 for i in range(10 * measure_count + 1)]\n",
        "    beat_frequencies = []\n",
        "    for loc in beat_locations:\n",
        "        beat_frequencies.append((onsets.count(loc) / len(onsets)))\n",
        "\n",
        "    fig, ax = plt.subplots()\n",
        "    ax.plot(beat_locations, beat_frequencies, color='blue')\n",
        "    if measure_count == 4:\n",
        "        ax.set_xlabel('Onset in Measure')\n",
        "    if measure_count == 8:\n",
        "        ax.set_xlabel('Onset in Two-Measure Sequence')\n",
        "        ax.axvline(4, linestyle = '--')\n",
        "    ax.set_ylabel('')\n",
        "    ax.set_title('Relative Frequency of Onset Locations')\n",
        "    ax.set_xlim(0, measure_count)\n",
        "    ax.set_ylim(0, .5)\n"
      ]
    },
    {
      "cell_type": "code",
      "execution_count": null,
      "id": "5b63a8ac",
      "metadata": {
        "id": "5b63a8ac"
      },
      "outputs": [],
      "source": [
        "subset = rhythm_data_df[rhythm_data_df['staff'] == 'bass']\n",
        "\n",
        "def extract_onset_in_measure(subset):\n",
        "    ## STUDENT SECTION -  ##\n",
        "    return subset[(subset['event_type'] == \"sounded\") & (subset['tie_info'] != \"tie_stop\")]['onset_in_measure']\n",
        "    ## END STUDENT SECTION ##\n",
        "\n",
        "onsets_bass = extract_onset_in_measure(subset)\n",
        "helpers_onset_dist(onsets_bass, 4) # graphing function"
      ]
    },
    {
      "cell_type": "markdown",
      "id": "72b407f1",
      "metadata": {
        "id": "72b407f1"
      },
      "source": [
        "There are two clear maxima at the first and third beats in the measure (recall 0-indexing). Apart from the increase ahead of beat 3, sounded events infrequently occur at other onset locations.\n",
        "\n",
        "If we wanted to draw a metrical grid for this score's **bass clef only**, and we restricted ourselves to drawing beat emphasis circles only on the beat level (as opposed to the sub-beat level), the graph above recommends the grid below.\n",
        "\n",
        "\n",
        "\n",
        "![bossa_grid_bass](https://drive.google.com/uc?export=view&id=1YNVB0fWGSZ2FJPOZElqaTBd0csBIiRCC)\n",
        "\n",
        "\n",
        "\n",
        "As you can see, the score also visually recommends this austere, intuitive rhythmic pattern. But does this grid make sense to your ear? Have a listen to the bass staff alone with the next block. Clap along to the beat. Ensure you make it past the first four measures 😊"
      ]
    },
    {
      "cell_type": "code",
      "execution_count": null,
      "id": "fc2ae2f1",
      "metadata": {
        "id": "fc2ae2f1"
      },
      "outputs": [],
      "source": [
        "sample_score.parts[1].show()"
      ]
    },
    {
      "cell_type": "markdown",
      "id": "db014325",
      "metadata": {
        "id": "db014325"
      },
      "source": [
        "Sounds reasonable! The first and third beats consistently accompany bass measures in the piece, so much so that occasional ornamentation doesn't disrupt our mental encoding of the metrical system depicted above.\n",
        "\n",
        "Let's isolate the treble staff to perform the same analysis."
      ]
    },
    {
      "cell_type": "code",
      "execution_count": null,
      "id": "ba60c296",
      "metadata": {
        "id": "ba60c296"
      },
      "outputs": [],
      "source": [
        "subset = rhythm_data_df[rhythm_data_df['staff'] == 'treble']\n",
        "onsets_treble = extract_onset_in_measure(subset)\n",
        "helpers_onset_dist(onsets_treble, 4)"
      ]
    },
    {
      "cell_type": "markdown",
      "id": "cdafce3f",
      "metadata": {},
      "source": []
    },
    {
      "cell_type": "markdown",
      "id": "6366122e",
      "metadata": {
        "id": "6366122e"
      },
      "source": [
        "Hmm... it doesn't appear to be as simple. Once again, beat 1 has a high share in the distribution. But the local peak at beat 3 has been 'pulled forward' to beat 2.5, and the global maximum occurs halfway into the final beat. This is strange.\n",
        "\n",
        "#### 2.3 Distribution of Sounded Event Onsets, 8-Beat Range\n",
        "\n",
        "Something we haven't accounted for yet is the possibility that the rhythmic structure is operating at a timescale longer than one measure. Go ahead and pass in onsets not as intra-measure onsets but intra-measure-pair onsets (that is, onsets relative to an 8-beat range rather than 4-beat range)."
      ]
    },
    {
      "cell_type": "markdown",
      "id": "11e8302e",
      "metadata": {
        "id": "11e8302e"
      },
      "source": [
        "<div style=\"padding:8px 0 8px 15px;border-left:3px solid #03befc;background-color:#F3F3F3;\">\n",
        "    \n",
        "- 🎯 **Goal:** Complete *extract_onset_in_measure_pair()*, which returns a pandas series or list containing onset values for all <u>**treble-staff sounded events**</u>. Unlike before, these onset values should range between 0 and 7.5; that is, our new timescale is 8 beats rather than 4.\n",
        "\n",
        "- 💻  **API:** Filter the *subset* dataframe below for sounded events, extract their *onset_in_score* values, and perform a modulus operation on the extracted values. Once again, remove events tied to previous events.\n",
        "\n",
        "</div>"
      ]
    },
    {
      "cell_type": "code",
      "execution_count": null,
      "id": "63348470",
      "metadata": {
        "id": "63348470"
      },
      "outputs": [],
      "source": [
        "subset = rhythm_data_df[rhythm_data_df['staff'] == 'treble']\n",
        "\n",
        "def extract_onset_in_measure_pair(subset):\n",
        "    ## STUDENT SECTION -  ##\n",
        "    return subset[(subset['event_type'] == \"sounded\") & (subset['tie_info'] != \"tie_stop\")]['onset_in_score']%8\n",
        "    ## END STUDENT SECTION ##\n",
        "\n",
        "onsets_8beats = extract_onset_in_measure_pair(subset)\n",
        "helpers_onset_dist(onsets_8beats, 8)"
      ]
    },
    {
      "cell_type": "markdown",
      "id": "43cad9e6",
      "metadata": {
        "id": "43cad9e6"
      },
      "source": [
        "There appears to be quite a weird distortion occurring at the turn of the measure. Let's overlay the two measure-length beat sequences to better visualize.\n",
        "\n",
        "Notice that our 8-beat sequence can equivalently be thought of as a view of the onset distribution for odd (beats 1-4) and even (beats 5 - 8) measures."
      ]
    },
    {
      "cell_type": "code",
      "execution_count": null,
      "id": "8Pxm40xNckC8",
      "metadata": {
        "id": "8Pxm40xNckC8"
      },
      "outputs": [],
      "source": [
        "# helper function\n",
        "\n",
        "def helpers_onset_dist_overlap_measure_pair(onsets):\n",
        "\n",
        "    if type(onsets) is not list:\n",
        "        onsets = onsets.tolist()\n",
        "\n",
        "    beat_locations = [0, 0.5, 1, 1.5, 2, 2.5, 3, 3.5]\n",
        "\n",
        "    m1_onsets = [o for o in onsets if o < 4]\n",
        "    m2_onsets = [o-4 for o in onsets if o >= 4]\n",
        "\n",
        "    m1_frequencies = []\n",
        "    m2_frequencies = []\n",
        "    for loc in beat_locations:\n",
        "        m1_frequencies.append((m1_onsets.count(loc) / len(onsets)))\n",
        "        m2_frequencies.append((m2_onsets.count(loc) / len(onsets)))\n",
        "\n",
        "    fig, ax = plt.subplots()\n",
        "    ax.plot(beat_locations, m1_frequencies, color='blue')\n",
        "    ax.plot(beat_locations, m2_frequencies, color='red')\n",
        "    ax.set_xlabel('Onset in Measure')\n",
        "    ax.set_ylabel('')\n",
        "    ax.set_title('Relative Frequency of Onset Locations')\n",
        "    ax.set_xlim(0, 4)\n",
        "    ax.set_ylim(0, .5)\n",
        "    ax.legend([\"Odd Measure\", \"Even Measure\"])\n"
      ]
    },
    {
      "cell_type": "code",
      "execution_count": null,
      "id": "a17badff",
      "metadata": {
        "id": "a17badff"
      },
      "outputs": [],
      "source": [
        "import sys\n",
        "sys.path.append(\"dependencies\")\n",
        "\n",
        "helpers_onset_dist_overlap_measure_pair(onsets_8beats)"
      ]
    },
    {
      "cell_type": "markdown",
      "id": "2f72a470",
      "metadata": {
        "id": "2f72a470"
      },
      "source": [
        "Two of the most striking disparities occur at the turn of the measure (that is, both the beginning of end of the four beats above). Odd-numbered measures outpace even-numbered measure onsets at the start of the initial beat and end of the final beat. Curiously, odd-numbered measures lack onsets at the beginning of beat four but still have a marked share at the final half beat. Even-numbered measures, meanwhile, show quite a steady distribution of onset locations - except on beat 3, where they have none (once again: don't forget 0-indexing!). Even-numbered measures also conspicuously lack an outsized share of onsets at the first beat.\n",
        "\n",
        "What exactly is going on? Far and away the most important dynamic at play is the 'pulling forward' of notes from beat 5 (the start of even measures) to halfway through beat 4 (the end of odd measures). This is what's occurring in the red circles below, where ties pull the onset for sounded events forward, de-emphasizing in the even measures what would typically be the strongest beat. The green and blue circles, meanwhile, demonstrate the greater variety seen at the end of even measures relative to odd measures, which is responsible for the steady final-beat distribution among even measures.\n",
        "\n",
        "Beneath the eight pictured measures you will find a metrical grid **that is based on the onset distributions above**. Here, we allow sub-beat onsets, creating a more granular grid.\n",
        "\n",
        "![bossa_grid](https://drive.google.com/uc?export=view&id=11gECaHkXpzVbRJ8uE4a0nfwW7VI4F6ce)\n",
        "\n",
        "Does the metrical grid make sense to your ear? Have a listen below.\n",
        "\n",
        "\n",
        "Clave pattern. Show histogram over metrical grid.\n",
        "Tresillo"
      ]
    },
    {
      "cell_type": "code",
      "execution_count": null,
      "id": "4c1001ef",
      "metadata": {
        "id": "4c1001ef"
      },
      "outputs": [],
      "source": [
        "sample_score.parts[0].show()"
      ]
    },
    {
      "cell_type": "markdown",
      "id": "dbfd6e62",
      "metadata": {
        "id": "dbfd6e62"
      },
      "source": [
        "Let's be honest: the metrical grid is a bit less intuitive relative to the one we drew for the bass staff above. Certainly we get the sense that odd measures are more important than even measures in each consecutive 8-beat sequence, and maybe we can identify the beat strength pattern in odd measures now that we've heard blue bossa's main motif multiple times. But this level of granularity is hard to ascertain with the ear:\n",
        "\n",
        "![bossa_treble_aust](https://drive.google.com/uc?export=view&id=1Ah3ZM0mXMGLdhvtiWmZlOQKJKCZK0GAW)\n",
        "\n",
        "\n",
        "\n",
        "There's two reasons behind this. First, ornamentation can crowd our onset distribution with onsets that are technically present but musically less significant. There may not be a simple heuristic for determining which onsets are more important than others and, indeed, melody information can inform this. For now, we will take the rather easy and blunt step of removing musical events less than a beat in length in the hopes that sounded events with longer durations really punctuate the beats that matter.\n",
        "\n",
        "Second, blue bossa's rhythmic grammar changes a bit halfway through the treble staff. Take a look at the green circles in the photo below. These letter indicate sections of the score, ways to segment blue bossa based on measures that follow similar patterns. A, B1, and C are rhythmically similar save for a bit of ornamentation (listen again with the block above to confirm). B2 is an entirely different beast. Meanwhile, our analysis is finding the average onset distribution using 16 measures labeled 'B2' **in combination with** 12 measures labeled A, B1, or C, ensuring our analysis 'straddles' a structural change in rhythmic pattern (of course, this so-called structural change it is not as severe as it would be if we were changing score or genre). For this reason, we'll limit our distribution to measures 5 - 16 (segments A, B1, and C) below.\n",
        "\n",
        "\n",
        "![bossa_treble_seg](https://drive.google.com/uc?export=view&id=11OcUScVnIyboslSrpmYY84ZDHO_Sxm0b)\n",
        "\n",
        "\n",
        "(A third reason is that we're studying the bass and treble clefs separately, but listeners only hear them played together. It is not exactly appropriate to compartmentalize the sounds contributing to rhythm like this. We do so simply so we can use the same piece to explore rhythmic variety. We will not address this issue here - but you will notice that in other sections, we stick with monophonic.)"
      ]
    },
    {
      "cell_type": "markdown",
      "id": "915c069d",
      "metadata": {
        "id": "915c069d"
      },
      "source": [
        "<div style=\"padding:8px 0 8px 15px;border-left:3px solid #03befc;background-color:#F3F3F3;\">\n",
        "    \n",
        "- 🎯 **Goal:** Complete *new_extract_onset_in_measure_pair()*, which should be the same as *extract_onset_in_measure_pair()* except now only sounded events longer that one beat (or sounded events tied to future events, regardless of duration) are kept\n",
        "\n",
        "- 💻  **API:** Augment your *extract_onset_in_measure_pair()* code with new filters on *duration* and *tie*\n",
        "\n",
        "</div>"
      ]
    },
    {
      "cell_type": "code",
      "execution_count": null,
      "id": "01c058e8",
      "metadata": {
        "id": "01c058e8"
      },
      "outputs": [],
      "source": [
        "subset = rhythm_data_df[(rhythm_data_df['staff'] == 'treble') & ((rhythm_data_df['measure_number'] >= 5) & (rhythm_data_df['measure_number'] < 17))]\n",
        "\n",
        "def new_extract_onset_in_measure_pair(subset):\n",
        "    ## STUDENT SECTION -  ##\n",
        "    return subset[(subset['event_type'] == \"sounded\") & (subset['tie_info'] != \"tie_stop\") & ((subset['duration'] >= 1) | (subset['tie_info'] == \"tie_start\"))]['onset_in_score']%8\n",
        "    ## END STUDENT SECTION ##\n",
        "\n",
        "onsets_8beats = new_extract_onset_in_measure_pair(subset)\n",
        "helpers_onset_dist(onsets_8beats, 8)"
      ]
    },
    {
      "cell_type": "markdown",
      "id": "241aedbb",
      "metadata": {
        "id": "241aedbb"
      },
      "source": [
        "This is perhaps more intuitive as a guidepost for important beats. Instead of creating yet another metrical grid, let's take this and lay it over the 'normal' onset distribution associated with 4/4 time signature. By referencing a baseline, we'll develop an understanding of the rhythmic eccentricities of our piece.\n",
        "\n",
        "Below, we import a corpus of Mozart Piano Sonatas (available as a DCML corpus [here](https://github.com/DCMLab/mozart_piano_sonatas/tree/main/MS3)), keep only those pieces with 4/4 meter, keep only those sounded events longer than one beat, convert onsets to their position in successive 8-beat sequences, and visualize the onset distribution alongside the distribution you create above. **Note our use of sns.displot(), a seaborn method which simplifies the code for creating our desired chart.**"
      ]
    },
    {
      "cell_type": "code",
      "execution_count": null,
      "id": "5f7771c8",
      "metadata": {
        "id": "5f7771c8"
      },
      "outputs": [],
      "source": [
        "import seaborn as sns\n",
        "\n",
        "# Function for converting onsets to 8-beat scale rather than 4-beat scale\n",
        "def eight_beatize(event):\n",
        "    if event['mn'] % 2 == 0:\n",
        "        return event['onset'] + 4\n",
        "    else:\n",
        "        return event['onset']\n",
        "\n",
        "# Read in Mozart Sonatas\n",
        "folder = f'{dependencies}/Mozart Piano Sonatas'\n",
        "MozartSonatas = ['/'.join([folder,piece]) for piece in os.listdir(folder) if '.tsv' in piece]\n",
        "corpus = pd.concat(map(pd.read_table, MozartSonatas))\n",
        "corpus['duration'] = corpus['duration'].apply(Fraction).astype(float)\n",
        "\n",
        "# Retain only those scores with 4/4 meter, exclude grace notes, exclude notes that last less tahn 1 beat (one quarter note)\n",
        "corpus_4_4 = corpus[(corpus.timesig == '4/4') & corpus.gracenote.isna() & (corpus.duration >= .25)].reset_index()\n",
        "\n",
        "# Cast onsets to position in 8-beat sequences\n",
        "corpus_4_4['onset'] = corpus_4_4['onset'].apply(Fraction).astype(float) * 4\n",
        "corpus_4_4['onset'] = corpus_4_4.apply(eight_beatize, axis = 1)\n",
        "\n",
        "# Combine mozart onsets and blue bossa onsets to permit overlaid density plot\n",
        "onsets = pd.concat([corpus_4_4['onset'], onsets_8beats], axis=0)\n",
        "origin = ['mozart sonatas'] * len(corpus_4_4['onset']) + ['blue bossa'] * len(onsets_8beats)\n",
        "onsets = pd.DataFrame({'onsets': onsets, 'origin': origin})\n",
        "\n",
        "# Use seaborn method to overlay kernel density plots. Note the simplicity even with series of vastly different observation counts :)\n",
        "sns.displot(onsets, x='onsets', hue = 'origin', kind = 'kde', bw_adjust = 0.2, common_norm = False)"
      ]
    },
    {
      "cell_type": "markdown",
      "id": "13ae3e6a",
      "metadata": {
        "id": "13ae3e6a"
      },
      "source": [
        "The blue line shows us high-duration onset locations in Mozart sonatas. The orange line shows us high-duration onset locations in blue bossa's **treble clef only**.\n",
        "\n",
        "The first of the two highest peaks in blue bossa is precisely where it \"should\" be (if Mozart is the baseline). The second is shifted one half-beat to the left, indicating an oft-syncopated sounded event as odd-numbered measures move into even-numbered measures. Apart from a bit more possible syncopation ahead of the seventh beat, other blue bossa local maxima overlap with 'normal' peaks, partially if not fully. Beats 5-8 clearly receive less sounded events in blue bossa than beats 1-4, despite a Mozart proclivity for sustained presence throughout. Finally, some 'normal' peaks are missing in our sample piece: beats 2 and 7 (0-indexing!). These observations collectively form one perspective on the character of blue bossa's rhythm - though they pay much more attention to onset than they do duration and rest (which is also true of this entire tutorial section).\n",
        "\n",
        "So far, we've explored a way to distill a score into onsets for sounded events, visualized these onsets, and considered how an 8-beat scale (vs. 4-beat scale), a filter on event durations, a filter on measures analyzed, and a classical genre baseline can all flesh out our understanding of rhythm. We have directly translated sounded event durations and onsets into metrical grids. We have seen how structural changes in a piece can complicate conclusions about what sort of rhythm characterizes an entire piece. But this has all been exploratory! While we can (hopefully) speak a bit about our piece's rhythmic behavior in a qualitative, general way, we'd need to do more work to create a rhythm ourselves, much less a rhythm that can mimic our sample piece in a way that feels human and respects blue bossa's time-based grammar.\n",
        "\n",
        "The work above was intended as an introduction to visualizing rhythm, a way to get you thinking about the different variables involved in the recipe while also showing you how to handle them in Python. There are many more ways to quantify and visualize rhythm. A self-similarity matrix of onset locations, durations, or rest presence, for example. A set of extracted features, such as inter-onset interval or average duration. The list goes on.\n",
        "\n",
        "We will explore further ways to represent rhythm when we get to comparison. For now, let's move our efforts from observing rhythm to actually generating it ourselves."
      ]
    },
    {
      "cell_type": "markdown",
      "id": "96742f65",
      "metadata": {
        "id": "96742f65"
      },
      "source": [
        "<a id=\"3\"></a>\n",
        "\n",
        "***---***\n",
        "\n",
        "\n",
        "## 3. Casting Numbers as music21 Scores (Short)\n",
        "###\n",
        "###### [back to top](#0)\n",
        "\n",
        "***---***"
      ]
    },
    {
      "cell_type": "markdown",
      "id": "0267a987",
      "metadata": {
        "id": "0267a987"
      },
      "source": [
        "#### 3.1 Introducing the generative Python functions"
      ]
    },
    {
      "cell_type": "markdown",
      "id": "cfd0b51a",
      "metadata": {
        "id": "cfd0b51a"
      },
      "source": [
        "Before we generate with rhythm as our explicit target, let's take a look at the general score-creation function we provide in helpers.py: **helpers_rhythm_from_sequence()**\n",
        "\n",
        "We use it below for a trivially simple example."
      ]
    },
    {
      "cell_type": "code",
      "execution_count": null,
      "id": "vFwcfiOHcwKc",
      "metadata": {
        "id": "vFwcfiOHcwKc"
      },
      "outputs": [],
      "source": [
        "# helper function\n",
        "import fractions\n",
        "from fractions import Fraction\n",
        "\n",
        "UNIT=1\n",
        "\n",
        "\n",
        "def helpers_sounded_event(duration, pitch = \"C4\"):\n",
        "    #Create Note object for percussion hits (default pitch is C4)\n",
        "    return music21.note.Note(pitch, quarterLength = duration*(4*UNIT))\n",
        "\n",
        "def helpers_append_event(duration, original_stream, rest = False, pitch = 'C4'):\n",
        "    #Returns a new_stream obtained by appending a rhythmical event or a rest of given duration to the original_stream\n",
        "    new_stream = original_stream\n",
        "    if rest:\n",
        "        new_stream.append(music21.note.Rest(quarterLength = duration*(4*UNIT)))\n",
        "    else:\n",
        "        new_stream.append(helpers_sounded_event(duration, pitch))\n",
        "    return new_stream\n",
        "\n",
        "def helpers_create_stream(time_sig = None, instru = music21.instrument.Woodblock()):\n",
        "    #Initialize a percussion stream with Woodblock timbre\n",
        "    #If time signature is None, no measure splits\n",
        "    if time_sig == None:\n",
        "        instruPart = music21.stream.Measure()\n",
        "    else:\n",
        "        instruPart = music21.stream.Stream()\n",
        "        instruPart.timeSignature = music21.meter.TimeSignature(time_sig)\n",
        "\n",
        "    instruPart.insert(0, instru) #assign woodblock timbre\n",
        "    return instruPart\n",
        "\n",
        "def helpers_rhythm_from_sequence(durations, time_sig = None, pitch = 'C4', rhythm=None, instru = music21.instrument.Woodblock()):\n",
        "    #Generate rhythmic stream from a list of durations. Rests are indicated by specifying a duration as a string\n",
        "    if rhythm is None:\n",
        "        # pass an existing stream 'rhythm' to append the durations, otherwise a new one will be created\n",
        "        rhythm = helpers_create_stream(time_sig = time_sig, instru = instru)\n",
        "    for dur in durations:\n",
        "        is_rest = False\n",
        "        if dur != 0:\n",
        "            if isinstance(dur, str):\n",
        "                #if duration is given as a string, interpret as rest and turn string into a numerical value\n",
        "                is_rest = True\n",
        "                try:\n",
        "                    dur = float(dur)\n",
        "                except:\n",
        "                    dur = fractions.Fraction(dur)\n",
        "\n",
        "            rhythm = helpers_append_event(dur, rhythm, rest = is_rest, pitch = pitch)\n",
        "    return rhythm"
      ]
    },
    {
      "cell_type": "code",
      "execution_count": null,
      "id": "707c669b",
      "metadata": {
        "id": "707c669b"
      },
      "outputs": [],
      "source": [
        "import sys\n",
        "sys.path.append(\"dependencies\")\n",
        "\n",
        "helpers_rhythm_from_sequence([1/2, .25, 1/8, 1/16, 1/32, 1/64, 1, 1.5]).show()"
      ]
    },
    {
      "cell_type": "markdown",
      "id": "8972c2b2",
      "metadata": {
        "id": "8972c2b2"
      },
      "source": [
        "Voila. You pass in a sequence of durations and receive a score in return. The durations can be written in either fraction or decimal notation. The only must is that they correspond to a note duration recognized by music21 (anything 'legal' in basic music theory: eighth note, sixteenth note, half note, etc), with the number 1 corresponding to a whole note.\n",
        "\n",
        "If you do not specify a time signature, *helpers_rhythm_from_sequence()* simply extends the measure for as long as is necessary and modifies the time signature accordingly. This doesn't always produce an ideal time signature though... it's not often you find music composed in 223/64 time.\n",
        "\n",
        "Let's see what happens when we define a time signature and make a few other input alterations to boot."
      ]
    },
    {
      "cell_type": "code",
      "execution_count": null,
      "id": "22a53398",
      "metadata": {
        "id": "22a53398"
      },
      "outputs": [],
      "source": [
        "helpers_rhythm_from_sequence([1/2, .25, 1/8, '1/16', 1/32, 1/64, '1', 1.5], time_sig ='4/4', instru = music21.instrument.Harp()).show()"
      ]
    },
    {
      "cell_type": "markdown",
      "id": "30d9e2ae",
      "metadata": {
        "id": "30d9e2ae"
      },
      "source": [
        "A few important things just happened.\n",
        "- By defining the time signature, we forced certain musical events to spread across multiple measures. Take a look at the final input, denoted by 1.5 in our input sequence. It's a single 6-beat sound stretched across three measures.\n",
        "- We've included rests. Simply cast a duration as a string upon input to create a rest. As with notes, rests are automaticaly split across measures when the time signature demands it.\n",
        "- We customized our instrument (this is audible when we play the score). Woodblocks (the default) are perfect for hearing onsets but less perfect for hearing durations.\n",
        "\n",
        "Time to prove you understand the function we will use to generate groovy tunes!"
      ]
    },
    {
      "cell_type": "markdown",
      "id": "de0e9d5e",
      "metadata": {
        "id": "de0e9d5e"
      },
      "source": [
        "<div style=\"padding:8px 0 8px 15px;border-left:3px solid #03befc;background-color:#F3F3F3;\">\n",
        "    \n",
        "- 🎯 **Goal:** Recreate the following rhythm:\n",
        "\n",
        "![humpty](https://drive.google.com/uc?export=view&id=18VBW9laju1zyBL8qMIYbywlrZmqzyoz8)\n",
        "\n",
        "\n",
        "\n",
        "- 💻  **API:** Use *helpers_rhythm_from_sequence()* with the appropriate time signature and list of durations. Use an instrument of your choice (check out the full list on the right side of [this](https://web.mit.edu/music21/doc/moduleReference/moduleInstrument.html) webpage)\n",
        "\n",
        "</div>"
      ]
    },
    {
      "cell_type": "code",
      "execution_count": null,
      "id": "bacda5f8",
      "metadata": {
        "id": "bacda5f8"
      },
      "outputs": [],
      "source": [
        "## STUDENT SECTION - ##\n",
        "recreated_rhythm = helpers_rhythm_from_sequence([], time_sig ='6/8', instru = music21.instrument.Lute())\n",
        "## END STUDENT SECTION ##\n",
        "recreated_rhythm.show()"
      ]
    },
    {
      "cell_type": "markdown",
      "id": "e6751837",
      "metadata": {
        "id": "e6751837"
      },
      "source": [
        "Humpty Dumpty sat on a wall...\n",
        "\n",
        "Before we move to our first generative approach, we will demonstrate a custom-built function for combining measures: *helpers_combine_scores()*."
      ]
    },
    {
      "cell_type": "code",
      "execution_count": null,
      "id": "afSfuBMAc7GG",
      "metadata": {
        "id": "afSfuBMAc7GG"
      },
      "outputs": [],
      "source": [
        "# helper function\n",
        "import copy\n",
        "\n",
        "def helpers_combine_scores(score_base, oth_score_list):\n",
        "    if type(oth_score_list) != list:\n",
        "        oth_score_list = [oth_score_list]\n",
        "    new_score = copy.deepcopy(score_base)\n",
        "    for oth_score in oth_score_list:\n",
        "        for event in oth_score.recurse():\n",
        "            if isinstance(event, music21.note.Note) or isinstance(event, music21.note.Rest):\n",
        "                new_event = copy.deepcopy(event)\n",
        "                new_score.append(new_event)\n",
        "    return new_score"
      ]
    },
    {
      "cell_type": "code",
      "execution_count": null,
      "id": "a27aee18",
      "metadata": {
        "id": "a27aee18"
      },
      "outputs": [],
      "source": [
        "recreated_rhythm_2 = helpers_rhythm_from_sequence([1/8, 1/8, 1/8, 1/8, 1/8, 1/8, 1/8, 1/8, 1/8, 1/4, 1/8], time_sig = '6/8', instru = music21.instrument.Lute())\n",
        "combined_scores = helpers_combine_scores(recreated_rhythm, recreated_rhythm_2)\n",
        "\n",
        "recreated_rhythm.show()\n",
        "recreated_rhythm_2.show()\n",
        "combined_scores.show()"
      ]
    },
    {
      "cell_type": "markdown",
      "id": "60a0e592",
      "metadata": {
        "id": "60a0e592"
      },
      "source": [
        "This function simply appends each event from the latter score to the former in sequence. The final time signature therefore comes from the first score. Appending begins at the precise end of the first score regardless of where in a measure that ending occurs. In other words, our combined result above respects the second measure break only because our first score fills exactly four measures.\n",
        "\n",
        "Now that you have access to functions which cast duration sequences as music21 scores, we need only develop intelligent rules for crafting duration sequences. And if you're worried our duration-only focus is too parochial, fear not: we are inadvertently controlling onsets and underlying metrical grid - the other core elements of rhythm - by choosing the order and amount of durations in addition to the durations themselves.\n",
        "\n",
        "To get the juices flowing, let's quickly incoporate our primary sequence-to-score function in a real application that involves sampling from probability distributions."
      ]
    },
    {
      "cell_type": "markdown",
      "id": "17960995",
      "metadata": {
        "id": "17960995"
      },
      "source": [
        "#### 3.2 Using the generative Python functions: onset-based duration distribution application"
      ]
    },
    {
      "cell_type": "markdown",
      "id": "59470d6f",
      "metadata": {
        "id": "59470d6f"
      },
      "source": [
        "Recall our Mozart Sonata corpus, imported again below"
      ]
    },
    {
      "cell_type": "code",
      "execution_count": null,
      "id": "9a7b5ea3",
      "metadata": {
        "id": "9a7b5ea3"
      },
      "outputs": [],
      "source": [
        "folder = f'{dependencies}/Mozart Piano Sonatas'\n",
        "MozartSonatas = ['/'.join([folder,piece]) for piece in os.listdir(folder) if '.tsv' in piece]\n",
        "corpus = pd.concat(map(pd.read_table, MozartSonatas))\n",
        "corpus['duration'] = corpus['duration'].apply(Fraction).astype(float) * 4\n",
        "corpus_4_4 = corpus[(corpus.timesig == '4/4') & corpus.gracenote.isna()].reset_index()\n",
        "corpus_4_4['onset'] = corpus_4_4['onset'].apply(Fraction).astype(float) * 4\n",
        "corpus_4_4"
      ]
    },
    {
      "cell_type": "markdown",
      "id": "acf7114f",
      "metadata": {
        "id": "acf7114f"
      },
      "source": [
        "Recall further the onset distribution charts we created. Let's recreate the distribution for Mozart sonatas, this time **without** differentiating between even and odd measures. Onsets that appear less than 10 times across all ~27K musical events are excluded."
      ]
    },
    {
      "cell_type": "code",
      "execution_count": null,
      "id": "b983b405",
      "metadata": {
        "id": "b983b405"
      },
      "outputs": [],
      "source": [
        "onset_tab = corpus_4_4['onset'].value_counts()\n",
        "onsets_sans_rare_idx = onset_tab[onset_tab >= 10].index\n",
        "onsets_sans_rare = corpus_4_4[corpus_4_4['onset'].isin(onsets_sans_rare_idx)]\n",
        "sns.displot(onsets_sans_rare, x='onset', kind = 'kde', bw_adjust = 0.2)"
      ]
    },
    {
      "cell_type": "markdown",
      "id": "3c41a465",
      "metadata": {
        "id": "3c41a465"
      },
      "source": [
        "It turns out we can use this analysis (+ a bit more) to create generative rules. Specifically, we can:\n",
        "\n",
        "1. Select an initial onset location using a distribution of Mozart's onset locations\n",
        "2. Calculate the distribution of note durations seen at each onset location, and\n",
        "3. Use the distributions in step 2 to repeately select a duration, arrive at a new onset, select a duration, arrive at a new onset, etc.\n",
        "\n",
        "Visually, this is the process we're describing:\n",
        "\n",
        "![gen](https://drive.google.com/uc?export=view&id=1Me-G0Ztvf6V5tnh06YMX_Ty4zZdpR_Ax)\n",
        "\n"
      ]
    },
    {
      "cell_type": "markdown",
      "id": "b05ebbae",
      "metadata": {
        "id": "b05ebbae"
      },
      "source": [
        "We must first calculate (1) a distribution of all onsets for the choice of initial onset and (2) a distribution of durations at each onset. These can be handled in one line each:"
      ]
    },
    {
      "cell_type": "code",
      "execution_count": null,
      "id": "60374e9b",
      "metadata": {
        "id": "60374e9b"
      },
      "outputs": [],
      "source": [
        "onset_distribution = corpus_4_4.onset.value_counts(normalize = True)\n",
        "duration_distribution_by_onset = corpus_4_4.groupby('onset').duration.value_counts(normalize = True)"
      ]
    },
    {
      "cell_type": "markdown",
      "id": "c9b0175c",
      "metadata": {
        "id": "c9b0175c"
      },
      "source": [
        "*duration_distribution_by_onset* reflects Mozart's favorite and least favorite duration choices at any given onset. It contains, for each onset, the data necessary to create the red-lined charts above.\n",
        "\n",
        "Now we just need to implement the rest of the steps in the picture above. Why don't you help us out with this?"
      ]
    },
    {
      "cell_type": "markdown",
      "id": "d7a13ef2",
      "metadata": {
        "id": "d7a13ef2"
      },
      "source": [
        "<div style=\"padding:8px 0 8px 15px;border-left:3px solid #03befc;background-color:#F3F3F3;\">\n",
        "    \n",
        "- 🎯 **Goal:** Complete the function *select_initial_onset()*. The function should select and return an onset from *onset_distribution* by sampling from the distribution.\n",
        "\n",
        "- 💻  **API:** Investigate the structure of onset_distribution and then check out np.random.choice().\n",
        "\n",
        "</div>"
      ]
    },
    {
      "cell_type": "code",
      "execution_count": null,
      "id": "f6262a35",
      "metadata": {
        "id": "f6262a35"
      },
      "outputs": [],
      "source": [
        "def select_initial_onset(onset_distribution):\n",
        "    ## STUDENT SECTION -\n",
        "    return np.random.choice()\n",
        "    ## END STUDENT SECTION ##"
      ]
    },
    {
      "cell_type": "markdown",
      "id": "168a9748",
      "metadata": {
        "id": "168a9748"
      },
      "source": [
        "<div style=\"padding:8px 0 8px 15px;border-left:3px solid #03befc;background-color:#F3F3F3;\">\n",
        "    \n",
        "- 🎯 **Goal:** Complete the function *next_from_current_onset()*. The function should use *duration_distribution_by_onset* to access the duration distribution associated with *current_onset*, select a duration, and return **both** the duration and the next onset.\n",
        "\n",
        "- 💻  **API:** You can again use np.random.choice(). The \"add-on\" here is finding the proper distribution for application of np.random.choice(). Hint: the onset should fall in the range [0, 4). Accommodate a *next_onset* greater than 4 by performing the proper modulo operation.\n",
        "\n",
        "</div>"
      ]
    },
    {
      "cell_type": "code",
      "execution_count": null,
      "id": "c5dc69b4",
      "metadata": {
        "id": "c5dc69b4"
      },
      "outputs": [],
      "source": [
        "def next_from_current_onset(current_onset, duration_distribution_by_onset):\n",
        "    ## STUDENT SECTION -\n",
        "    duration = np.random.choice(duration_distribution_by_onset[current_onset].index*4, p=duration_distribution_by_onset[current_onset])\n",
        "    next_onset = (current_onset + duration)%4\n",
        "    ## END STUDENT SECTION ##\n",
        "    return duration, next_onset"
      ]
    },
    {
      "cell_type": "markdown",
      "id": "90e4ac80",
      "metadata": {
        "id": "90e4ac80"
      },
      "source": [
        "Great! We'll pull your functions together to craft a generating method which takes sequence length as an argument."
      ]
    },
    {
      "cell_type": "code",
      "execution_count": null,
      "id": "4c6980a4",
      "metadata": {
        "id": "4c6980a4"
      },
      "outputs": [],
      "source": [
        "import numpy as np\n",
        "\n",
        "np.random.seed(1)\n",
        "\n",
        "def rhythm_from_onset_dur_dists(length, onset_distribution, duration_distribution_by_onset):\n",
        "    onsets = []\n",
        "    durations = []\n",
        "    onsets.append(select_initial_onset(onset_distribution))\n",
        "    for o in range(length):\n",
        "        current_onset = onsets[-1]\n",
        "        duration, next_onset = next_from_current_onset(current_onset, duration_distribution_by_onset)\n",
        "        durations.append(duration)\n",
        "        onsets.append(next_onset)\n",
        "    onsets = [dur / 16 for dur in durations]\n",
        "    durations = [dur / 16 for dur in durations]\n",
        "    if onsets[0] != 0:\n",
        "        first_rest = [str(onsets[0])]\n",
        "        first_rest.extend(durations)\n",
        "        durations = first_rest\n",
        "    return helpers_rhythm_from_sequence(durations, time_sig='4/4')\n",
        "\n",
        "rhythm_from_onset_dur_dists(15, onset_distribution, duration_distribution_by_onset).show()"
      ]
    },
    {
      "cell_type": "markdown",
      "id": "03f83076",
      "metadata": {
        "id": "03f83076"
      },
      "source": [
        "\n",
        "Does this sound like Mozart? Well... no. Lack of pitch obviously affects this, but also, the memoryless nature of our generative tool means any motif or structure owes much to random number generation.\n",
        "\n",
        "This example simply provides one practical use-case for *helpers_rhythm_from_sequence()* and allows us to dip our toes into sampling from probability distributions - something we explore further in the next section."
      ]
    },
    {
      "cell_type": "markdown",
      "id": "db0ee9a2",
      "metadata": {
        "id": "db0ee9a2"
      },
      "source": [
        "### 🎉 Congrats! You have finished your introduction to rhythmic structure!\n",
        "\n",
        "###### [back to top](#0)"
      ]
    }
  ],
  "metadata": {
    "colab": {
      "provenance": []
    },
    "kernelspec": {
      "display_name": "Python 3",
      "language": "python",
      "name": "python3"
    },
    "language_info": {
      "codemirror_mode": {
        "name": "ipython",
        "version": 3
      },
      "file_extension": ".py",
      "mimetype": "text/x-python",
      "name": "python",
      "nbconvert_exporter": "python",
      "pygments_lexer": "ipython3",
      "version": "3.10.13"
    }
  },
  "nbformat": 4,
  "nbformat_minor": 5
}
