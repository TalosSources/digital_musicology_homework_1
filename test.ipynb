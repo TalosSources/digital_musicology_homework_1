{
 "cells": [
  {
   "cell_type": "code",
   "execution_count": 5,
   "id": "d05519c8-d95f-4a56-b0dd-f041b5e195b6",
   "metadata": {},
   "outputs": [
    {
     "data": {
      "text/plain": [
       "False"
      ]
     },
     "execution_count": 5,
     "metadata": {},
     "output_type": "execute_result"
    }
   ],
   "source": [
    "indices = [0.0, 1.0, 2.0, 3.0, 0.0, 1.0, 2.0, 3.0]\n",
    "durations = [0.12, 0.23, 0.34, 0.45, 0.56, 0.67, 0.78, 0.89]\n",
    "["
   ]
  },
  {
   "cell_type": "code",
   "execution_count": null,
   "id": "e1bc46f2-bcdc-4f25-99ec-30595641e3f0",
   "metadata": {},
   "outputs": [],
   "source": []
  }
 ],
 "metadata": {
  "kernelspec": {
   "display_name": "Python 3 (ipykernel)",
   "language": "python",
   "name": "python3"
  },
  "language_info": {
   "codemirror_mode": {
    "name": "ipython",
    "version": 3
   },
   "file_extension": ".py",
   "mimetype": "text/x-python",
   "name": "python",
   "nbconvert_exporter": "python",
   "pygments_lexer": "ipython3",
   "version": "3.11.5"
  }
 },
 "nbformat": 4,
 "nbformat_minor": 5
}
